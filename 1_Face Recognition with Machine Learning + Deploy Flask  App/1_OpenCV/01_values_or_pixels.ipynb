{
 "cells": [
  {
   "cell_type": "code",
   "execution_count": 1,
   "id": "39f27489",
   "metadata": {},
   "outputs": [],
   "source": [
    "import numpy as np # numerical python \n",
    "import matplotlib.pyplot as plt # visualization library"
   ]
  },
  {
   "cell_type": "code",
   "execution_count": 2,
   "id": "8623ab9b",
   "metadata": {},
   "outputs": [
    {
     "name": "stdout",
     "output_type": "stream",
     "text": [
      "[  0   1   2   3   4   5   6   7   8   9  10  11  12  13  14  15  16  17\n",
      "  18  19  20  21  22  23  24  25  26  27  28  29  30  31  32  33  34  35\n",
      "  36  37  38  39  40  41  42  43  44  45  46  47  48  49  50  51  52  53\n",
      "  54  55  56  57  58  59  60  61  62  63  64  65  66  67  68  69  70  71\n",
      "  72  73  74  75  76  77  78  79  80  81  82  83  84  85  86  87  88  89\n",
      "  90  91  92  93  94  95  96  97  98  99 100 101 102 103 104 105 106 107\n",
      " 108 109 110 111 112 113 114 115 116 117 118 119 120 121 122 123 124 125\n",
      " 126 127 128 129 130 131 132 133 134 135 136 137 138 139 140 141 142 143\n",
      " 144 145 146 147 148 149 150 151 152 153 154 155 156 157 158 159 160 161\n",
      " 162 163 164 165 166 167 168 169 170 171 172 173 174 175 176 177 178 179\n",
      " 180 181 182 183 184 185 186 187 188 189 190 191 192 193 194 195 196 197\n",
      " 198 199 200 201 202 203 204 205 206 207 208 209 210 211 212 213 214 215\n",
      " 216 217 218 219 220 221 222 223 224 225 226 227 228 229 230 231 232 233\n",
      " 234 235 236 237 238 239 240 241 242 243 244 245 246 247 248 249 250 251\n",
      " 252 253 254 255]\n"
     ]
    }
   ],
   "source": [
    "# create an array in the range (0,255) . 16 x 16\n",
    "arr = np.arange(0,256,1)\n",
    "print(arr)"
   ]
  },
  {
   "cell_type": "code",
   "execution_count": 3,
   "id": "63ad3755",
   "metadata": {
    "scrolled": true
   },
   "outputs": [
    {
     "name": "stdout",
     "output_type": "stream",
     "text": [
      "[[  0   1   2   3   4   5   6   7   8   9  10  11  12  13  14  15]\n",
      " [ 16  17  18  19  20  21  22  23  24  25  26  27  28  29  30  31]\n",
      " [ 32  33  34  35  36  37  38  39  40  41  42  43  44  45  46  47]\n",
      " [ 48  49  50  51  52  53  54  55  56  57  58  59  60  61  62  63]\n",
      " [ 64  65  66  67  68  69  70  71  72  73  74  75  76  77  78  79]\n",
      " [ 80  81  82  83  84  85  86  87  88  89  90  91  92  93  94  95]\n",
      " [ 96  97  98  99 100 101 102 103 104 105 106 107 108 109 110 111]\n",
      " [112 113 114 115 116 117 118 119 120 121 122 123 124 125 126 127]\n",
      " [128 129 130 131 132 133 134 135 136 137 138 139 140 141 142 143]\n",
      " [144 145 146 147 148 149 150 151 152 153 154 155 156 157 158 159]\n",
      " [160 161 162 163 164 165 166 167 168 169 170 171 172 173 174 175]\n",
      " [176 177 178 179 180 181 182 183 184 185 186 187 188 189 190 191]\n",
      " [192 193 194 195 196 197 198 199 200 201 202 203 204 205 206 207]\n",
      " [208 209 210 211 212 213 214 215 216 217 218 219 220 221 222 223]\n",
      " [224 225 226 227 228 229 230 231 232 233 234 235 236 237 238 239]\n",
      " [240 241 242 243 244 245 246 247 248 249 250 251 252 253 254 255]]\n"
     ]
    }
   ],
   "source": [
    "arr = arr.reshape((16,16))\n",
    "print(arr)"
   ]
  },
  {
   "cell_type": "code",
   "execution_count": 4,
   "id": "ddd163d0",
   "metadata": {},
   "outputs": [],
   "source": [
    "arr_8bit = arr.astype(np.uint8)"
   ]
  },
  {
   "cell_type": "code",
   "execution_count": 9,
   "id": "eda1bf4b",
   "metadata": {},
   "outputs": [
    {
     "data": {
      "image/png": "[encoded data removed]",
      "text/plain": [
       "<Figure size 640x480 with 1 Axes>"
      ]
     },
     "metadata": {},
     "output_type": "display_data"
    }
   ],
   "source": [
    "plt.imshow(arr_8bit,cmap='gray')\n",
    "plt.axis('off')\n",
    "plt.show()"
   ]
  },
  {
   "cell_type": "code",
   "execution_count": 10,
   "id": "aac2a9e5",
   "metadata": {},
   "outputs": [
    {
     "data": {
      "text/plain": [
       "(np.float64(-0.5), np.float64(15.5), np.float64(15.5), np.float64(-0.5))"
      ]
     },
     "execution_count": 10,
     "metadata": {},
     "output_type": "execute_result"
    },
    {
     "data": {
      "image/png": "[encoded data removed]",
      "text/plain": [
       "<Figure size 640x480 with 1 Axes>"
      ]
     },
     "metadata": {},
     "output_type": "display_data"
    }
   ],
   "source": [
    "# random matrix (16x16)\n",
    "arr1 = np.random.randint(low=0,high=255,size=(16,16),dtype=np.uint8)\n",
    "plt.imshow(arr1,cmap='gray')\n",
    "plt.axis('off')"
   ]
  },
  {
   "cell_type": "code",
   "execution_count": 11,
   "id": "cf30f79d",
   "metadata": {},
   "outputs": [
    {
     "data": {
      "text/plain": [
       "array([[ 56,  95,  33,  88,   3, 107, 158, 245, 119,  53,  41, 209, 221,\n",
       "         84, 156,  79],\n",
       "       [182,  82,  10,  37, 210,  35, 210,   8,   6, 119,  83,  16,  40,\n",
       "        157,  28,  74],\n",
       "       [ 65,  54, 204, 242, 183, 130,  41, 236, 169, 217, 110, 124, 144,\n",
       "         27, 202, 127],\n",
       "       [138, 169,  89,  26, 215,  21, 148, 141,  25,  15,  10,  77,  34,\n",
       "         27,  27,  65],\n",
       "       [ 91, 231,  11,  20, 117, 171, 204, 108, 140,  68,  26,  67, 149,\n",
       "         72, 185, 244],\n",
       "       [174, 232, 123, 164,  59,  31, 146, 100, 124,  16, 247, 165, 116,\n",
       "         15,  83,  62],\n",
       "       [ 45, 194, 234,  81, 206, 125, 113, 224, 139, 200,  52,  42, 107,\n",
       "         46, 156,  96],\n",
       "       [144,  13,  88, 192, 239,  70, 112,  94, 208,  51, 240, 202, 187,\n",
       "        219, 121,  40],\n",
       "       [201, 148,  22,  47,  37, 107, 184, 195, 157,   2, 132,  46, 125,\n",
       "         67, 135,  52],\n",
       "       [160, 135,  35, 226, 116, 232, 150, 188, 140, 201, 105, 104, 147,\n",
       "         60, 168, 160],\n",
       "       [168,  94,  85, 202,  17, 184,  16, 115, 145,  18, 251, 118, 104,\n",
       "        247, 230, 139],\n",
       "       [ 49, 126, 123, 194,  20,  62,  85,  28,  94,  29,  46,  99,  95,\n",
       "        224, 251, 172],\n",
       "       [ 59,  70, 173,  14,  22, 113, 144, 220,  24, 214, 217,  36,   4,\n",
       "          9, 193,  76],\n",
       "       [ 38, 252,  71,  90, 242, 173, 194,  91,  27, 215,  90,  31,  98,\n",
       "        186, 247, 163],\n",
       "       [149, 101, 178, 239, 177, 156,  89, 204, 158,  90, 222, 238, 100,\n",
       "        238, 175, 133],\n",
       "       [ 91, 173, 146, 251, 148, 246,  65,   8, 146,  12, 144, 158, 173,\n",
       "        144,  32, 157]], dtype=uint8)"
      ]
     },
     "execution_count": 11,
     "metadata": {},
     "output_type": "execute_result"
    }
   ],
   "source": [
    "arr1"
   ]
  }
 ],
 "metadata": {
  "kernelspec": {
   "display_name": "venv",
   "language": "python",
   "name": "python3"
  },
  "language_info": {
   "codemirror_mode": {
    "name": "ipython",
    "version": 3
   },
   "file_extension": ".py",
   "mimetype": "text/x-python",
   "name": "python",
   "nbconvert_exporter": "python",
   "pygments_lexer": "ipython3",
   "version": "3.9.12"
  }
 },
 "nbformat": 4,
 "nbformat_minor": 5
}
