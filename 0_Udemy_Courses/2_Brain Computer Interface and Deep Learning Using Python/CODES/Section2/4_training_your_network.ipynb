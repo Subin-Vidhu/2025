{
 "cells": [
  {
   "cell_type": "markdown",
   "metadata": {
    "id": "2YgJNEVnyr4L"
   },
   "source": [
    "## Loading data"
   ]
  },
  {
   "cell_type": "code",
   "execution_count": 1,
   "metadata": {
    "id": "bRA4smKAyb3n"
   },
   "outputs": [],
   "source": [
    "import torch\n",
    "from torchvision import datasets, transforms\n",
    "import numpy as np\n",
    "import matplotlib.pyplot as plt\n"
   ]
  },
  {
   "cell_type": "code",
   "execution_count": 2,
   "metadata": {
    "id": "qDp-inQryvL0"
   },
   "outputs": [],
   "source": [
    "# Define a transform to convert the images to tensor\n",
    "transform = transforms.Compose([transforms.ToTensor()])"
   ]
  },
  {
   "cell_type": "code",
   "execution_count": 3,
   "metadata": {
    "colab": {
     "base_uri": "https://localhost:8080/"
    },
    "executionInfo": {
     "elapsed": 14246,
     "status": "ok",
     "timestamp": 1721486233609,
     "user": {
      "displayName": "رياض هيثم",
      "userId": "17802608446207188246"
     },
     "user_tz": 420
    },
    "id": "O5AhV3CBy0y0",
    "outputId": "c274c86c-94ff-4c36-b825-c70622a4ff8a"
   },
   "outputs": [],
   "source": [
    "# Download the MNIST training dataset\n",
    "mnist_train = datasets.MNIST(root='../data', train=True, download=True, transform=transform)\n",
    "\n",
    "# Download the MNIST test dataset\n",
    "mnist_test = datasets.MNIST(root='../data', train=False, download=True, transform=transform)\n"
   ]
  },
  {
   "cell_type": "code",
   "execution_count": 4,
   "metadata": {
    "id": "Wi7ysrRcy23o"
   },
   "outputs": [],
   "source": [
    "# Convert to NumPy arrays\n",
    "train_data_np = mnist_train.data.numpy()"
   ]
  },
  {
   "cell_type": "code",
   "execution_count": 5,
   "metadata": {
    "id": "XaFpxed1y7wL"
   },
   "outputs": [],
   "source": [
    "image = train_data_np[0]"
   ]
  },
  {
   "cell_type": "code",
   "execution_count": 6,
   "metadata": {
    "colab": {
     "base_uri": "https://localhost:8080/",
     "height": 406
    },
    "executionInfo": {
     "elapsed": 23,
     "status": "ok",
     "timestamp": 1721486233610,
     "user": {
      "displayName": "رياض هيثم",
      "userId": "17802608446207188246"
     },
     "user_tz": 420
    },
    "id": "LxlwTAaNy8eM",
    "outputId": "0220a1d7-8523-4bf0-bbda-b00d21923c50"
   },
   "outputs": [
    {
     "data": {
      "image/png": "[encoded data removed]",
      "text/plain": [
       "<Figure size 640x480 with 1 Axes>"
      ]
     },
     "metadata": {},
     "output_type": "display_data"
    }
   ],
   "source": [
    "plt.imshow(image, cmap='gray')\n",
    "plt.axis('off')\n",
    "plt.show()"
   ]
  },
  {
   "cell_type": "markdown",
   "metadata": {
    "id": "1cJ9HSQX8GDZ"
   },
   "source": [
    "# data processing\n"
   ]
  },
  {
   "cell_type": "code",
   "execution_count": 7,
   "metadata": {
    "id": "uDgLurOs8N2o"
   },
   "outputs": [],
   "source": [
    "from torch.utils.data import DataLoader\n",
    "train_loader = DataLoader(dataset=mnist_train, batch_size=64, shuffle=True)\n",
    "test_loader = DataLoader(dataset=mnist_test, batch_size=64, shuffle=False)"
   ]
  },
  {
   "cell_type": "code",
   "execution_count": 8,
   "metadata": {
    "colab": {
     "base_uri": "https://localhost:8080/"
    },
    "executionInfo": {
     "elapsed": 20,
     "status": "ok",
     "timestamp": 1721486233610,
     "user": {
      "displayName": "رياض هيثم",
      "userId": "17802608446207188246"
     },
     "user_tz": 420
    },
    "id": "tL08TkrZ8pky",
    "outputId": "ace858c4-5d1d-41c7-c960-3b92de4a7a2c"
   },
   "outputs": [
    {
     "name": "stdout",
     "output_type": "stream",
     "text": [
      "Batch of images shape: torch.Size([64, 1, 28, 28])\n",
      "Batch of labels shape: torch.Size([64])\n"
     ]
    }
   ],
   "source": [
    "for images, labels in train_loader:\n",
    "    print(f\"Batch of images shape: {images.shape}\")\n",
    "    print(f\"Batch of labels shape: {labels.shape}\")\n",
    "    break  # Remove this line to iterate through the entire DataLoader"
   ]
  },
  {
   "cell_type": "markdown",
   "metadata": {
    "id": "ED3vWhSFBFOM"
   },
   "source": [
    "# Building simple NN"
   ]
  },
  {
   "cell_type": "code",
   "execution_count": 9,
   "metadata": {
    "id": "PGhIR9wpBE5j"
   },
   "outputs": [],
   "source": [
    "import torch.nn as nn"
   ]
  },
  {
   "cell_type": "code",
   "execution_count": 10,
   "metadata": {
    "id": "HW3Wk5V5BU4x"
   },
   "outputs": [],
   "source": [
    "# Define the MLP model\n",
    "class NN(nn.Module):\n",
    "    def __init__(self):\n",
    "        super(NN, self).__init__()\n",
    "        self.fc1 = nn.Linear(28*28, 128)  # Input layer to first hidden layer\n",
    "        self.fc2 = nn.Linear(128, 64)     # First hidden layer to second hidden layer\n",
    "        self.fc3 = nn.Linear(64, 10)      # Second hidden layer to output layer\n",
    "\n",
    "    def forward(self, x):\n",
    "        x = x.view(-1, 28*28)  # Flatten the image\n",
    "        x = torch.relu(self.fc1(x))  # Apply ReLU activation\n",
    "        x = torch.relu(self.fc2(x))  # Apply ReLU activation\n",
    "        x = self.fc3(x)  # Output layer\n",
    "        return x"
   ]
  },
  {
   "cell_type": "code",
   "execution_count": 11,
   "metadata": {
    "id": "3kNnTLXsC9HC"
   },
   "outputs": [],
   "source": [
    "Neural_Network = NN()"
   ]
  },
  {
   "cell_type": "markdown",
   "metadata": {
    "id": "s5ovthLTgkYj"
   },
   "source": [
    "# Training your Network"
   ]
  },
  {
   "cell_type": "code",
   "execution_count": 12,
   "metadata": {
    "colab": {
     "base_uri": "https://localhost:8080/"
    },
    "executionInfo": {
     "elapsed": 124855,
     "status": "ok",
     "timestamp": 1721486484792,
     "user": {
      "displayName": "رياض هيثم",
      "userId": "17802608446207188246"
     },
     "user_tz": 420
    },
    "id": "8eTQuuDaC1Pe",
    "outputId": "cedca988-771f-4158-88be-d5506a79b20e"
   },
   "outputs": [
    {
     "name": "stdout",
     "output_type": "stream",
     "text": [
      "Epoch 0\n",
      "Epoch 1\n",
      "Epoch 2\n",
      "Epoch 3\n",
      "Epoch 4\n",
      "Epoch 5\n",
      "Epoch 6\n",
      "Epoch 7\n",
      "Epoch 8\n",
      "Epoch 9\n"
     ]
    }
   ],
   "source": [
    "import torch.optim as optim\n",
    "learning_rate = 0.002\n",
    "criterion = nn.CrossEntropyLoss() # mutliclass classification\n",
    "optimizer = optim.Adam(Neural_Network.parameters(), lr=learning_rate)\n",
    "epochs = 10\n",
    "# Training loop\n",
    "for epoch in range(epochs):\n",
    "    Neural_Network.train()\n",
    "    for images, labels in train_loader:\n",
    "        optimizer.zero_grad()\n",
    "        outputs = Neural_Network(images)\n",
    "        loss = criterion(outputs, labels)\n",
    "        loss.backward()\n",
    "        optimizer.step()\n",
    "    print(f'Epoch {epoch}')\n"
   ]
  },
  {
   "cell_type": "code",
   "execution_count": 14,
   "metadata": {},
   "outputs": [
    {
     "name": "stdout",
     "output_type": "stream",
     "text": [
      "Collecting scikit-learn\n",
      "  Downloading scikit_learn-1.6.1-cp39-cp39-win_amd64.whl.metadata (15 kB)\n",
      "Requirement already satisfied: numpy>=1.19.5 in d:\\2025\\0_udemy_courses\\.venv\\lib\\site-packages (from scikit-learn) (2.0.2)\n",
      "Collecting scipy>=1.6.0 (from scikit-learn)\n",
      "  Using cached scipy-1.13.1-cp39-cp39-win_amd64.whl.metadata (60 kB)\n",
      "Collecting joblib>=1.2.0 (from scikit-learn)\n",
      "  Using cached joblib-1.4.2-py3-none-any.whl.metadata (5.4 kB)\n",
      "Collecting threadpoolctl>=3.1.0 (from scikit-learn)\n",
      "  Downloading threadpoolctl-3.6.0-py3-none-any.whl.metadata (13 kB)\n",
      "Downloading scikit_learn-1.6.1-cp39-cp39-win_amd64.whl (11.2 MB)\n",
      "   ---------------------------------------- 0.0/11.2 MB ? eta -:--:--\n",
      "   ------------------ --------------------- 5.2/11.2 MB 35.3 MB/s eta 0:00:01\n",
      "   ----------------------------- ---------- 8.1/11.2 MB 22.9 MB/s eta 0:00:01\n",
      "   ---------------------------------------- 11.2/11.2 MB 24.9 MB/s eta 0:00:00\n",
      "Using cached joblib-1.4.2-py3-none-any.whl (301 kB)\n",
      "Using cached scipy-1.13.1-cp39-cp39-win_amd64.whl (46.2 MB)\n",
      "Downloading threadpoolctl-3.6.0-py3-none-any.whl (18 kB)\n",
      "Installing collected packages: threadpoolctl, scipy, joblib, scikit-learn\n",
      "Successfully installed joblib-1.4.2 scikit-learn-1.6.1 scipy-1.13.1 threadpoolctl-3.6.0\n"
     ]
    }
   ],
   "source": [
    "!pip install scikit-learn"
   ]
  },
  {
   "cell_type": "code",
   "execution_count": 15,
   "metadata": {
    "id": "4uuvrYJulu8h"
   },
   "outputs": [],
   "source": [
    "# Evaluation loop\n",
    "from sklearn.metrics import confusion_matrix\n",
    "\n",
    "Neural_Network.eval()\n",
    "all_labels = []\n",
    "all_predictions = []\n",
    "with torch.no_grad():\n",
    "    for images, labels in test_loader:\n",
    "        outputs = Neural_Network(images)\n",
    "        _, predicted = torch.max(outputs.data, 1)\n",
    "        all_labels.extend(labels.cpu().numpy())\n",
    "        all_predictions.extend(predicted.cpu().numpy())"
   ]
  },
  {
   "cell_type": "code",
   "execution_count": 16,
   "metadata": {
    "colab": {
     "base_uri": "https://localhost:8080/"
    },
    "executionInfo": {
     "elapsed": 3,
     "status": "ok",
     "timestamp": 1721486623886,
     "user": {
      "displayName": "رياض هيثم",
      "userId": "17802608446207188246"
     },
     "user_tz": 420
    },
    "id": "OOUpVM0Ik-pJ",
    "outputId": "f2864b9d-f0aa-4d76-e21a-f3538c934ae3"
   },
   "outputs": [
    {
     "name": "stdout",
     "output_type": "stream",
     "text": [
      "Confusion Matrix:\n",
      "[[ 970    0    1    0    1    1    1    1    3    2]\n",
      " [   0 1127    3    0    0    0    1    0    4    0]\n",
      " [   3    3 1007    6    0    1    2    8    1    1]\n",
      " [   1    0    2  984    0    4    0    6    3   10]\n",
      " [   0    0   10    0  946    3    1    3    0   19]\n",
      " [   4    1    0   21    1  848    4    1    7    5]\n",
      " [  11    1    1    0   14    2  928    0    1    0]\n",
      " [   1    2   10    0    1    0    0 1008    2    4]\n",
      " [   7    0    6    3    3    2    0    5  943    5]\n",
      " [   1    3    2    0   10    0    1    3    2  987]]\n"
     ]
    }
   ],
   "source": [
    "conf_matrix = confusion_matrix(all_labels, all_predictions)\n",
    "print(\"Confusion Matrix:\")\n",
    "print(conf_matrix)"
   ]
  }
 ],
 "metadata": {
  "colab": {
   "authorship_tag": "ABX9TyO9x42JRTQ52EOChCurvk9r",
   "provenance": []
  },
  "kernelspec": {
   "display_name": ".venv",
   "language": "python",
   "name": "python3"
  },
  "language_info": {
   "codemirror_mode": {
    "name": "ipython",
    "version": 3
   },
   "file_extension": ".py",
   "mimetype": "text/x-python",
   "name": "python",
   "nbconvert_exporter": "python",
   "pygments_lexer": "ipython3",
   "version": "3.9.12"
  }
 },
 "nbformat": 4,
 "nbformat_minor": 0
}
