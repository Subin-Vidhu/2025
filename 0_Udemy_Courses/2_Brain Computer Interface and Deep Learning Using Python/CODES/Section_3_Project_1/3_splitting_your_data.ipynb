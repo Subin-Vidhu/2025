{
 "cells": [
  {
   "cell_type": "markdown",
   "metadata": {
    "id": "RlyRtMZuEdIH"
   },
   "source": [
    "# Loading the data"
   ]
  },
  {
   "cell_type": "code",
   "execution_count": 1,
   "metadata": {
    "executionInfo": {
     "elapsed": 335,
     "status": "ok",
     "timestamp": 1721887484574,
     "user": {
      "displayName": "رياض هيثم",
      "userId": "17802608446207188246"
     },
     "user_tz": 420
    },
    "id": "-Bodh1yX_CLV"
   },
   "outputs": [],
   "source": [
    "import numpy as np"
   ]
  },
  {
   "cell_type": "code",
   "execution_count": 2,
   "metadata": {
    "executionInfo": {
     "elapsed": 1004,
     "status": "ok",
     "timestamp": 1721887488148,
     "user": {
      "displayName": "رياض هيثم",
      "userId": "17802608446207188246"
     },
     "user_tz": 420
    },
    "id": "ET2WnEc1_RQ8"
   },
   "outputs": [],
   "source": [
    "dataset = np.load(\"./1.npy\")"
   ]
  },
  {
   "cell_type": "code",
   "execution_count": 3,
   "metadata": {
    "colab": {
     "base_uri": "https://localhost:8080/"
    },
    "executionInfo": {
     "elapsed": 9,
     "status": "ok",
     "timestamp": 1721887489538,
     "user": {
      "displayName": "رياض هيثم",
      "userId": "17802608446207188246"
     },
     "user_tz": 420
    },
    "id": "wvzxZyxiAKo-",
    "outputId": "8f6a7532-74c8-4195-9478-33223ba800ad"
   },
   "outputs": [
    {
     "data": {
      "text/plain": [
       "(259520, 65)"
      ]
     },
     "execution_count": 3,
     "metadata": {},
     "output_type": "execute_result"
    }
   ],
   "source": [
    "dataset.shape"
   ]
  },
  {
   "cell_type": "markdown",
   "metadata": {
    "id": "izZZ2Sfjouz6"
   },
   "source": [
    "# Convert your dataset into `segments`"
   ]
  },
  {
   "cell_type": "code",
   "execution_count": 4,
   "metadata": {
    "executionInfo": {
     "elapsed": 328,
     "status": "ok",
     "timestamp": 1721887499014,
     "user": {
      "displayName": "رياض هيثم",
      "userId": "17802608446207188246"
     },
     "user_tz": 420
    },
    "id": "vrndjf0-o5CN"
   },
   "outputs": [],
   "source": [
    "def extract(input, n_classes, n_fea, time_window, moving):\n",
    "    xx = input[:, :n_fea]\n",
    "    yy = input[:, n_fea:n_fea + 1]\n",
    "    new_x = []\n",
    "    new_y = []\n",
    "    number = int((xx.shape[0] / moving) - 1)\n",
    "    for i in range(number):\n",
    "        ave_y = np.average(yy[int(i * moving):int(i * moving + time_window)])\n",
    "        if ave_y in range(n_classes + 1):\n",
    "            new_x.append(xx[int(i * moving):int(i * moving + time_window), :])\n",
    "            new_y.append(ave_y)\n",
    "\n",
    "    new_x = np.array(new_x)\n",
    "    new_x = new_x.reshape([-1, n_fea * time_window])\n",
    "    new_y = np.array(new_y)\n",
    "    new_y.shape = [new_y.shape[0], 1]\n",
    "    data = np.hstack((new_x, new_y))\n",
    "    data = np.vstack((data, data[-1]))  # add the last sample again, to make the sample number round\n",
    "    return data"
   ]
  },
  {
   "cell_type": "code",
   "execution_count": 5,
   "metadata": {
    "executionInfo": {
     "elapsed": 1279,
     "status": "ok",
     "timestamp": 1721887504316,
     "user": {
      "displayName": "رياض هيثم",
      "userId": "17802608446207188246"
     },
     "user_tz": 420
    },
    "id": "AVU31o7XQPqM"
   },
   "outputs": [],
   "source": [
    "data = extract(dataset ,11 ,64 ,16 ,8)"
   ]
  },
  {
   "cell_type": "markdown",
   "metadata": {
    "id": "tB66ZNs9nrwb"
   },
   "source": [
    "# How to Divide Data into Training and Testing Sets"
   ]
  },
  {
   "cell_type": "code",
   "execution_count": 6,
   "metadata": {
    "executionInfo": {
     "elapsed": 351,
     "status": "ok",
     "timestamp": 1721890541697,
     "user": {
      "displayName": "رياض هيثم",
      "userId": "17802608446207188246"
     },
     "user_tz": 420
    },
    "id": "EMVB7NhenrQb"
   },
   "outputs": [],
   "source": [
    "from sklearn.model_selection import train_test_split\n",
    "n_fea = 64\n",
    "time_window = 16\n",
    "no_longfeature = n_fea * time_window\n",
    "data_seg_feature = data[:, :no_longfeature]\n",
    "data_seg_label = data[:, no_longfeature:no_longfeature+1]\n",
    "train_feature, test_feature, train_label, test_label = train_test_split(data_seg_feature, data_seg_label,test_size=0.2, shuffle=True)"
   ]
  },
  {
   "cell_type": "code",
   "execution_count": 7,
   "metadata": {
    "colab": {
     "base_uri": "https://localhost:8080/"
    },
    "executionInfo": {
     "elapsed": 5,
     "status": "ok",
     "timestamp": 1721890807484,
     "user": {
      "displayName": "رياض هيثم",
      "userId": "17802608446207188246"
     },
     "user_tz": 420
    },
    "id": "uily9RW6r3Q0",
    "outputId": "ba247116-360d-45f1-9ad5-de761375649a"
   },
   "outputs": [
    {
     "data": {
      "text/plain": [
       "(25807, 1024)"
      ]
     },
     "execution_count": 7,
     "metadata": {},
     "output_type": "execute_result"
    }
   ],
   "source": [
    "train_feature.shape"
   ]
  },
  {
   "cell_type": "code",
   "execution_count": 8,
   "metadata": {
    "colab": {
     "base_uri": "https://localhost:8080/"
    },
    "executionInfo": {
     "elapsed": 352,
     "status": "ok",
     "timestamp": 1721890837499,
     "user": {
      "displayName": "رياض هيثم",
      "userId": "17802608446207188246"
     },
     "user_tz": 420
    },
    "id": "JaVIW_u9sN1Y",
    "outputId": "dab8359d-ac45-45cb-f910-01392fb744fb"
   },
   "outputs": [
    {
     "data": {
      "text/plain": [
       "(6452, 1024)"
      ]
     },
     "execution_count": 8,
     "metadata": {},
     "output_type": "execute_result"
    }
   ],
   "source": [
    "test_feature.shape"
   ]
  }
 ],
 "metadata": {
  "colab": {
   "authorship_tag": "ABX9TyOvGNndGgMn+darwHLszCdd",
   "mount_file_id": "1sxszpAVMe-nX629YewcFOsaK4ouEJvEd",
   "provenance": []
  },
  "kernelspec": {
   "display_name": ".venv",
   "language": "python",
   "name": "python3"
  },
  "language_info": {
   "codemirror_mode": {
    "name": "ipython",
    "version": 3
   },
   "file_extension": ".py",
   "mimetype": "text/x-python",
   "name": "python",
   "nbconvert_exporter": "python",
   "pygments_lexer": "ipython3",
   "version": "3.9.12"
  }
 },
 "nbformat": 4,
 "nbformat_minor": 0
}
