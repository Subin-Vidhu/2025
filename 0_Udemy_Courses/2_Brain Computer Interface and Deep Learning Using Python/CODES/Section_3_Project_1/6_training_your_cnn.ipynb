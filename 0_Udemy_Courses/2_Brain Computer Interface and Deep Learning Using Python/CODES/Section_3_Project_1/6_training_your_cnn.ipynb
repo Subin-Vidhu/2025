{
 "cells": [
  {
   "cell_type": "markdown",
   "metadata": {
    "id": "RlyRtMZuEdIH"
   },
   "source": [
    "# Loading the data"
   ]
  },
  {
   "cell_type": "code",
   "execution_count": 1,
   "metadata": {
    "executionInfo": {
     "elapsed": 3,
     "status": "ok",
     "timestamp": 1722004515234,
     "user": {
      "displayName": "رياض هيثم",
      "userId": "17802608446207188246"
     },
     "user_tz": 420
    },
    "id": "-Bodh1yX_CLV"
   },
   "outputs": [],
   "source": [
    "import numpy as np"
   ]
  },
  {
   "cell_type": "code",
   "execution_count": 2,
   "metadata": {
    "executionInfo": {
     "elapsed": 2731,
     "status": "ok",
     "timestamp": 1722004518588,
     "user": {
      "displayName": "رياض هيثم",
      "userId": "17802608446207188246"
     },
     "user_tz": 420
    },
    "id": "ET2WnEc1_RQ8"
   },
   "outputs": [],
   "source": [
    "dataset = np.load(\"./1.npy\")"
   ]
  },
  {
   "cell_type": "code",
   "execution_count": 3,
   "metadata": {
    "colab": {
     "base_uri": "https://localhost:8080/"
    },
    "executionInfo": {
     "elapsed": 4,
     "status": "ok",
     "timestamp": 1722004518588,
     "user": {
      "displayName": "رياض هيثم",
      "userId": "17802608446207188246"
     },
     "user_tz": 420
    },
    "id": "wvzxZyxiAKo-",
    "outputId": "9ffa2382-fc2d-4f77-a23c-4dfedcbcd981"
   },
   "outputs": [
    {
     "data": {
      "text/plain": [
       "(259520, 65)"
      ]
     },
     "execution_count": 3,
     "metadata": {},
     "output_type": "execute_result"
    }
   ],
   "source": [
    "dataset.shape"
   ]
  },
  {
   "cell_type": "code",
   "execution_count": 4,
   "metadata": {
    "executionInfo": {
     "elapsed": 3,
     "status": "ok",
     "timestamp": 1722004518588,
     "user": {
      "displayName": "رياض هيثم",
      "userId": "17802608446207188246"
     },
     "user_tz": 420
    },
    "id": "VztOEB_aqDvr"
   },
   "outputs": [],
   "source": [
    "dataset = dataset[dataset[:,-1]!=10,:]"
   ]
  },
  {
   "cell_type": "markdown",
   "metadata": {
    "id": "izZZ2Sfjouz6"
   },
   "source": [
    "# Convert your dataset into `segments`"
   ]
  },
  {
   "cell_type": "code",
   "execution_count": 5,
   "metadata": {
    "executionInfo": {
     "elapsed": 3,
     "status": "ok",
     "timestamp": 1722004518588,
     "user": {
      "displayName": "رياض هيثم",
      "userId": "17802608446207188246"
     },
     "user_tz": 420
    },
    "id": "vrndjf0-o5CN"
   },
   "outputs": [],
   "source": [
    "def extract(input, n_classes, n_fea, time_window, moving):\n",
    "    xx = input[:, :n_fea]\n",
    "    yy = input[:, n_fea:n_fea + 1]\n",
    "    new_x = []\n",
    "    new_y = []\n",
    "    number = int((xx.shape[0] / moving) - 1)\n",
    "    for i in range(number):\n",
    "        ave_y = np.average(yy[int(i * moving):int(i * moving + time_window)])\n",
    "        if ave_y in range(n_classes + 1):\n",
    "            new_x.append(xx[int(i * moving):int(i * moving + time_window), :])\n",
    "            new_y.append(ave_y)\n",
    "\n",
    "    new_x = np.array(new_x)\n",
    "    new_x = new_x.reshape([-1, n_fea * time_window])\n",
    "    new_y = np.array(new_y)\n",
    "    new_y.shape = [new_y.shape[0], 1]\n",
    "    data = np.hstack((new_x, new_y))\n",
    "    data = np.vstack((data, data[-1]))  # add the last sample again, to make the sample number round\n",
    "    return data"
   ]
  },
  {
   "cell_type": "code",
   "execution_count": 6,
   "metadata": {
    "executionInfo": {
     "elapsed": 666,
     "status": "ok",
     "timestamp": 1722004519252,
     "user": {
      "displayName": "رياض هيثم",
      "userId": "17802608446207188246"
     },
     "user_tz": 420
    },
    "id": "AVU31o7XQPqM"
   },
   "outputs": [],
   "source": [
    "data = extract(dataset ,10 ,64 ,16 ,8)"
   ]
  },
  {
   "cell_type": "markdown",
   "metadata": {
    "id": "tB66ZNs9nrwb"
   },
   "source": [
    "# How to Divide Data into Training and Testing Sets"
   ]
  },
  {
   "cell_type": "code",
   "execution_count": 7,
   "metadata": {
    "executionInfo": {
     "elapsed": 1364,
     "status": "ok",
     "timestamp": 1722004520615,
     "user": {
      "displayName": "رياض هيثم",
      "userId": "17802608446207188246"
     },
     "user_tz": 420
    },
    "id": "EMVB7NhenrQb"
   },
   "outputs": [],
   "source": [
    "from sklearn.model_selection import train_test_split\n",
    "n_fea = 64\n",
    "time_window = 16\n",
    "no_longfeature = n_fea * time_window\n",
    "data_seg_feature = data[:, :no_longfeature]\n",
    "data_seg_label = data[:, no_longfeature:no_longfeature+1]\n",
    "train_feature, test_feature, train_label, test_label = train_test_split(data_seg_feature, data_seg_label,test_size=0.2, shuffle=True)"
   ]
  },
  {
   "cell_type": "code",
   "execution_count": 8,
   "metadata": {
    "colab": {
     "base_uri": "https://localhost:8080/"
    },
    "executionInfo": {
     "elapsed": 6,
     "status": "ok",
     "timestamp": 1722004520615,
     "user": {
      "displayName": "رياض هيثم",
      "userId": "17802608446207188246"
     },
     "user_tz": 420
    },
    "id": "uily9RW6r3Q0",
    "outputId": "90958b94-4a62-4620-b663-b5abd954ec5b"
   },
   "outputs": [
    {
     "data": {
      "text/plain": [
       "(13754, 1024)"
      ]
     },
     "execution_count": 8,
     "metadata": {},
     "output_type": "execute_result"
    }
   ],
   "source": [
    "train_feature.shape"
   ]
  },
  {
   "cell_type": "code",
   "execution_count": 9,
   "metadata": {
    "colab": {
     "base_uri": "https://localhost:8080/"
    },
    "executionInfo": {
     "elapsed": 5,
     "status": "ok",
     "timestamp": 1722004520615,
     "user": {
      "displayName": "رياض هيثم",
      "userId": "17802608446207188246"
     },
     "user_tz": 420
    },
    "id": "JaVIW_u9sN1Y",
    "outputId": "1878af2c-5459-4c0c-fcd6-cb396c7c9aff"
   },
   "outputs": [
    {
     "data": {
      "text/plain": [
       "(3439, 1024)"
      ]
     },
     "execution_count": 9,
     "metadata": {},
     "output_type": "execute_result"
    }
   ],
   "source": [
    "test_feature.shape"
   ]
  },
  {
   "cell_type": "markdown",
   "metadata": {
    "id": "OktcZNmJ6quJ"
   },
   "source": [
    "# Data Preprocessing"
   ]
  },
  {
   "cell_type": "code",
   "execution_count": 10,
   "metadata": {
    "executionInfo": {
     "elapsed": 792,
     "status": "ok",
     "timestamp": 1722005920186,
     "user": {
      "displayName": "رياض هيثم",
      "userId": "17802608446207188246"
     },
     "user_tz": 420
    },
    "id": "gT0ag5Cc6wU7"
   },
   "outputs": [],
   "source": [
    "from sklearn.preprocessing import StandardScaler\n",
    "scaler1 = StandardScaler().fit(train_feature)\n",
    "train_fea_norm1 = scaler1.transform(train_feature) # normalize the training data\n",
    "test_fea_norm1 = scaler1.transform(test_feature) # normalize the test data"
   ]
  },
  {
   "cell_type": "markdown",
   "metadata": {
    "id": "uGMI3fLpAx_d"
   },
   "source": [
    "# Building a CNN Network"
   ]
  },
  {
   "cell_type": "code",
   "execution_count": 11,
   "metadata": {
    "executionInfo": {
     "elapsed": 4,
     "status": "ok",
     "timestamp": 1722005921262,
     "user": {
      "displayName": "رياض هيثم",
      "userId": "17802608446207188246"
     },
     "user_tz": 420
    },
    "id": "Yrpk7X17J5BV"
   },
   "outputs": [],
   "source": [
    "import torch\n",
    "import torch.nn as nn\n",
    "import torch.nn.functional as F"
   ]
  },
  {
   "cell_type": "code",
   "execution_count": 12,
   "metadata": {
    "executionInfo": {
     "elapsed": 542,
     "status": "ok",
     "timestamp": 1722006098316,
     "user": {
      "displayName": "رياض هيثم",
      "userId": "17802608446207188246"
     },
     "user_tz": 420
    },
    "id": "Uxka8Aed6voa"
   },
   "outputs": [],
   "source": [
    "class CNN(nn.Module):\n",
    "    def __init__(self):\n",
    "        super(CNN, self).__init__()\n",
    "        self.conv1 = nn.Sequential(\n",
    "            nn.Conv2d(\n",
    "                in_channels=1,\n",
    "                out_channels=16,\n",
    "                kernel_size=(2,4),\n",
    "                stride=1,\n",
    "                padding= (1,2)  #([1,2]-1)/2,\n",
    "            ),\n",
    "            nn.ReLU(),\n",
    "            nn.MaxPool2d((2,4))\n",
    "        )\n",
    "        self.conv2 = nn.Sequential(\n",
    "            nn.Conv2d(16, 32, (2,2), stride=1, padding=1),\n",
    "            nn.ReLU(),\n",
    "            nn.MaxPool2d((2, 2))\n",
    "        )\n",
    "\n",
    "\n",
    "        self.fc = nn.Linear(1024, 128)  # 64*2*4\n",
    "        self.out = nn.Linear(128, n_class)\n",
    "\n",
    "    def forward(self, x):\n",
    "        x = self.conv1(x)\n",
    "        x = self.conv2(x)\n",
    "        x = x.view(x.size(0), -1)\n",
    "        x = F.relu(self.fc(x))\n",
    "        x = F.dropout(x, p=0.2)\n",
    "        output = self.out(x)\n",
    "        return output"
   ]
  },
  {
   "cell_type": "code",
   "execution_count": 13,
   "metadata": {
    "executionInfo": {
     "elapsed": 499,
     "status": "ok",
     "timestamp": 1722006102193,
     "user": {
      "displayName": "رياض هيثم",
      "userId": "17802608446207188246"
     },
     "user_tz": 420
    },
    "id": "WxDyHVwK5pNh"
   },
   "outputs": [],
   "source": [
    "BATCH_size = 100\n",
    "n_class = 10"
   ]
  },
  {
   "cell_type": "markdown",
   "metadata": {
    "id": "iXNaroxd5H4k"
   },
   "source": [
    "# Training your CNN Network"
   ]
  },
  {
   "cell_type": "code",
   "execution_count": 14,
   "metadata": {
    "executionInfo": {
     "elapsed": 5,
     "status": "ok",
     "timestamp": 1722006104436,
     "user": {
      "displayName": "رياض هيثم",
      "userId": "17802608446207188246"
     },
     "user_tz": 420
    },
    "id": "0W82WLzrL-vS"
   },
   "outputs": [],
   "source": [
    "n_class=10\n",
    "cnn = CNN()\n",
    "# let's pass an input to it\n",
    "input = torch.randn(BATCH_size, 1, 16, 64)\n",
    "output = cnn(input)"
   ]
  },
  {
   "cell_type": "code",
   "execution_count": 15,
   "metadata": {
    "executionInfo": {
     "elapsed": 545,
     "status": "ok",
     "timestamp": 1722006108724,
     "user": {
      "displayName": "رياض هيثم",
      "userId": "17802608446207188246"
     },
     "user_tz": 420
    },
    "id": "1ovejB2P5PWg"
   },
   "outputs": [],
   "source": [
    "cnn = CNN()\n",
    "# lets test out network by passing noise to it  as input\n",
    "import time\n",
    "start_time = time.perf_counter()\n",
    "\n",
    "\n",
    "\n",
    "\n",
    "device = \"cuda\" if torch.cuda.is_available() else \"cpu\"\n",
    "cnn.to(device)\n",
    "LR = 0.001\n",
    "l2 = 0.001\n",
    "optimizer = torch.optim.Adam(cnn.parameters(), lr=LR, weight_decay=l2)\n",
    "loss_func = nn.CrossEntropyLoss()"
   ]
  },
  {
   "cell_type": "code",
   "execution_count": 16,
   "metadata": {
    "executionInfo": {
     "elapsed": 3,
     "status": "ok",
     "timestamp": 1722006109331,
     "user": {
      "displayName": "رياض هيثم",
      "userId": "17802608446207188246"
     },
     "user_tz": 420
    },
    "id": "ERbymYqM7bNu"
   },
   "outputs": [],
   "source": [
    "segment_length = 16\n",
    "no_feature = 64\n",
    "\n",
    "train_fea_norm1 = train_fea_norm1.reshape([-1, segment_length, no_feature])\n",
    "test_fea_norm1 = test_fea_norm1.reshape([-1, segment_length, no_feature])"
   ]
  },
  {
   "cell_type": "code",
   "execution_count": 17,
   "metadata": {
    "colab": {
     "base_uri": "https://localhost:8080/"
    },
    "executionInfo": {
     "elapsed": 3,
     "status": "ok",
     "timestamp": 1722006110620,
     "user": {
      "displayName": "رياض هيثم",
      "userId": "17802608446207188246"
     },
     "user_tz": 420
    },
    "id": "_WLhi0I0-5Un",
    "outputId": "0970c097-de85-466a-8d93-d345bfea118b"
   },
   "outputs": [
    {
     "data": {
      "text/plain": [
       "(13754, 1)"
      ]
     },
     "execution_count": 17,
     "metadata": {},
     "output_type": "execute_result"
    }
   ],
   "source": [
    "train_label.shape"
   ]
  },
  {
   "cell_type": "code",
   "execution_count": 18,
   "metadata": {
    "executionInfo": {
     "elapsed": 20,
     "status": "ok",
     "timestamp": 1722006111229,
     "user": {
      "displayName": "رياض هيثم",
      "userId": "17802608446207188246"
     },
     "user_tz": 420
    },
    "id": "uNENmDGm7bFL"
   },
   "outputs": [],
   "source": [
    "BATCH_size = 10000"
   ]
  },
  {
   "cell_type": "code",
   "execution_count": 19,
   "metadata": {
    "colab": {
     "base_uri": "https://localhost:8080/"
    },
    "executionInfo": {
     "elapsed": 19,
     "status": "ok",
     "timestamp": 1722006111229,
     "user": {
      "displayName": "رياض هيثم",
      "userId": "17802608446207188246"
     },
     "user_tz": 420
    },
    "id": "zQqKsPXM7bBn",
    "outputId": "de40215f-1b9c-4699-af0a-ad9a8e4e4035"
   },
   "outputs": [],
   "source": [
    "import torch.utils.data as Data\n",
    "\n",
    "# feed data into dataloader\n",
    "train_fea_norm1 = torch.tensor(train_fea_norm1)\n",
    "train_fea_norm1 = torch.unsqueeze(train_fea_norm1, dim=1).type('torch.FloatTensor').to(device)\n",
    "\n",
    "train_label = torch.tensor(train_label.flatten()).to(device)\n",
    "train_data = Data.TensorDataset(train_fea_norm1, train_label)\n",
    "train_loader = Data.DataLoader(dataset=train_data, batch_size=BATCH_size, shuffle=True)\n",
    "\n",
    "test_fea_norm1 = torch.tensor(test_fea_norm1)\n",
    "test_fea_norm1 = torch.unsqueeze(test_fea_norm1, dim=1).type('torch.FloatTensor').to(device)\n",
    "test_label = torch.tensor(test_label.flatten()).to(device)"
   ]
  },
  {
   "cell_type": "code",
   "execution_count": 20,
   "metadata": {
    "colab": {
     "base_uri": "https://localhost:8080/"
    },
    "executionInfo": {
     "elapsed": 60774,
     "status": "ok",
     "timestamp": 1722006219803,
     "user": {
      "displayName": "رياض هيثم",
      "userId": "17802608446207188246"
     },
     "user_tz": 420
    },
    "id": "MReVhzXB7a-5",
    "outputId": "8310baec-6966-4970-9e15-bd579332a42b"
   },
   "outputs": [
    {
     "name": "stdout",
     "output_type": "stream",
     "text": [
      "2.2793755531311035\n",
      "2.1681714057922363\n",
      "2.0714128017425537\n",
      "2.0080549716949463\n",
      "1.9775153398513794\n",
      "1.9409970045089722\n",
      "1.9183886051177979\n",
      "1.8880029916763306\n",
      "1.8676626682281494\n",
      "1.8488284349441528\n",
      "1.8297595977783203\n",
      "1.8214794397354126\n",
      "1.8213618993759155\n",
      "1.7913509607315063\n",
      "1.7837984561920166\n",
      "1.7708264589309692\n",
      "1.7855652570724487\n",
      "1.7581967115402222\n",
      "1.7578779458999634\n",
      "1.7284642457962036\n",
      "1.727992296218872\n",
      "1.7037415504455566\n",
      "1.7372355461120605\n",
      "1.692492127418518\n",
      "1.686528205871582\n",
      "1.6793272495269775\n",
      "1.6790112257003784\n",
      "1.6697803735733032\n",
      "1.6510930061340332\n",
      "1.647756814956665\n"
     ]
    }
   ],
   "source": [
    "# training and testing\n",
    "for epoch in range(300):\n",
    "    for step, (train_x, train_y) in enumerate(train_loader):\n",
    "        output = cnn(train_x)  # CNN output of training data\n",
    "        loss = loss_func(output, train_y.long())  # cross entropy loss\n",
    "        optimizer.zero_grad()  # clear gradients for this training step\n",
    "        loss.backward()  # backpropagation, compute gradients\n",
    "        optimizer.step()  # apply gradients\n",
    "\n",
    "    if epoch % 10 == 0:\n",
    "        test_output = cnn(test_fea_norm1)  # CNN output of test data\n",
    "        test_loss = loss_func(test_output, test_label.long())\n",
    "\n",
    "        print(test_loss.item())"
   ]
  },
  {
   "cell_type": "code",
   "execution_count": 21,
   "metadata": {
    "colab": {
     "base_uri": "https://localhost:8080/",
     "height": 0
    },
    "executionInfo": {
     "elapsed": 908,
     "status": "ok",
     "timestamp": 1722006220710,
     "user": {
      "displayName": "رياض هيثم",
      "userId": "17802608446207188246"
     },
     "user_tz": 420
    },
    "id": "sgYhvfzJ7awA",
    "outputId": "19ec1a50-2460-4411-9acd-4fe1df984951"
   },
   "outputs": [
    {
     "name": "stdout",
     "output_type": "stream",
     "text": [
      "Confusion Matrix:\n",
      "[[ 58   1  24  23  24  27  16   8  25  19]\n",
      " [  3 191   3   4   6   9   4   4   5   7]\n",
      " [ 23   4 131  57  18  48  33  22  28  17]\n",
      " [ 21   7  39 151  12  27  43  20  27  11]\n",
      " [ 18   9  19  15 135  68  15  10  38  31]\n",
      " [  7   3  16  22  57 153  31  15  33  25]\n",
      " [  8   5  22  26  19  28 176  42  58  31]\n",
      " [  8   1  20  28  10  25  63 160  22  31]\n",
      " [  9   6  19   9  30  31  40  15 133  44]\n",
      " [  7   9  22  17  28  37  26  33  67 154]]\n"
     ]
    },
    {
     "data": {
      "text/plain": [
       "<sklearn.metrics._plot.confusion_matrix.ConfusionMatrixDisplay at 0x1f9968cbcd0>"
      ]
     },
     "execution_count": 21,
     "metadata": {},
     "output_type": "execute_result"
    },
    {
     "data": {
      "image/png": "[encoded data removed]",
      "text/plain": [
       "<Figure size 640x480 with 2 Axes>"
      ]
     },
     "metadata": {},
     "output_type": "display_data"
    }
   ],
   "source": [
    "from sklearn.metrics import  confusion_matrix ,ConfusionMatrixDisplay\n",
    "\n",
    "true_y = test_label.data.cpu().numpy()\n",
    "pred_y = torch.max(test_output, 1)[1].data.cpu().numpy()\n",
    "\n",
    "# Create confusion matrix\n",
    "conf_matrix = confusion_matrix(true_y, pred_y)\n",
    "print(\"Confusion Matrix:\")\n",
    "print(conf_matrix)\n",
    "disp = ConfusionMatrixDisplay(confusion_matrix=conf_matrix)\n",
    "disp.plot(cmap='Blues')"
   ]
  }
 ],
 "metadata": {
  "accelerator": "GPU",
  "colab": {
   "authorship_tag": "ABX9TyM+EyUT4SnZhXEXdTn3SU/K",
   "gpuType": "T4",
   "machine_shape": "hm",
   "mount_file_id": "1sxszpAVMe-nX629YewcFOsaK4ouEJvEd",
   "provenance": []
  },
  "kernelspec": {
   "display_name": ".venv",
   "language": "python",
   "name": "python3"
  },
  "language_info": {
   "codemirror_mode": {
    "name": "ipython",
    "version": 3
   },
   "file_extension": ".py",
   "mimetype": "text/x-python",
   "name": "python",
   "nbconvert_exporter": "python",
   "pygments_lexer": "ipython3",
   "version": "3.9.12"
  }
 },
 "nbformat": 4,
 "nbformat_minor": 0
}
