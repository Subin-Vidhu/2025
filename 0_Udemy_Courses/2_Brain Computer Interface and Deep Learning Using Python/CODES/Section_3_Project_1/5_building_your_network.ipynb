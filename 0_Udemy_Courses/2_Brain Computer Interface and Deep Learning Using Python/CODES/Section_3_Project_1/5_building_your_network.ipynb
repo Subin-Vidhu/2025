{
 "cells": [
  {
   "cell_type": "markdown",
   "metadata": {
    "id": "RlyRtMZuEdIH"
   },
   "source": [
    "# Loading the data"
   ]
  },
  {
   "cell_type": "code",
   "execution_count": 1,
   "metadata": {
    "executionInfo": {
     "elapsed": 3,
     "status": "ok",
     "timestamp": 1721966572887,
     "user": {
      "displayName": "رياض هيثم",
      "userId": "17802608446207188246"
     },
     "user_tz": 420
    },
    "id": "-Bodh1yX_CLV"
   },
   "outputs": [],
   "source": [
    "import numpy as np"
   ]
  },
  {
   "cell_type": "code",
   "execution_count": 2,
   "metadata": {
    "executionInfo": {
     "elapsed": 3152,
     "status": "ok",
     "timestamp": 1721966576038,
     "user": {
      "displayName": "رياض هيثم",
      "userId": "17802608446207188246"
     },
     "user_tz": 420
    },
    "id": "ET2WnEc1_RQ8"
   },
   "outputs": [],
   "source": [
    "dataset = np.load(\"./1.npy\")"
   ]
  },
  {
   "cell_type": "code",
   "execution_count": 3,
   "metadata": {
    "colab": {
     "base_uri": "https://localhost:8080/"
    },
    "executionInfo": {
     "elapsed": 947,
     "status": "ok",
     "timestamp": 1721966576982,
     "user": {
      "displayName": "رياض هيثم",
      "userId": "17802608446207188246"
     },
     "user_tz": 420
    },
    "id": "wvzxZyxiAKo-",
    "outputId": "da655a08-52e9-46e1-be60-3b5d693a4616"
   },
   "outputs": [
    {
     "data": {
      "text/plain": [
       "(259520, 65)"
      ]
     },
     "execution_count": 3,
     "metadata": {},
     "output_type": "execute_result"
    }
   ],
   "source": [
    "dataset.shape"
   ]
  },
  {
   "cell_type": "markdown",
   "metadata": {
    "id": "izZZ2Sfjouz6"
   },
   "source": [
    "# Convert your dataset into `segments`"
   ]
  },
  {
   "cell_type": "code",
   "execution_count": 4,
   "metadata": {
    "executionInfo": {
     "elapsed": 3,
     "status": "ok",
     "timestamp": 1721966576982,
     "user": {
      "displayName": "رياض هيثم",
      "userId": "17802608446207188246"
     },
     "user_tz": 420
    },
    "id": "vrndjf0-o5CN"
   },
   "outputs": [],
   "source": [
    "def extract(input, n_classes, n_fea, time_window, moving):\n",
    "    xx = input[:, :n_fea]\n",
    "    yy = input[:, n_fea:n_fea + 1]\n",
    "    new_x = []\n",
    "    new_y = []\n",
    "    number = int((xx.shape[0] / moving) - 1)\n",
    "    for i in range(number):\n",
    "        ave_y = np.average(yy[int(i * moving):int(i * moving + time_window)])\n",
    "        if ave_y in range(n_classes + 1):\n",
    "            new_x.append(xx[int(i * moving):int(i * moving + time_window), :])\n",
    "            new_y.append(ave_y)\n",
    "\n",
    "    new_x = np.array(new_x)\n",
    "    new_x = new_x.reshape([-1, n_fea * time_window])\n",
    "    new_y = np.array(new_y)\n",
    "    new_y.shape = [new_y.shape[0], 1]\n",
    "    data = np.hstack((new_x, new_y))\n",
    "    data = np.vstack((data, data[-1]))  # add the last sample again, to make the sample number round\n",
    "    return data"
   ]
  },
  {
   "cell_type": "code",
   "execution_count": 5,
   "metadata": {
    "executionInfo": {
     "elapsed": 1744,
     "status": "ok",
     "timestamp": 1721966578724,
     "user": {
      "displayName": "رياض هيثم",
      "userId": "17802608446207188246"
     },
     "user_tz": 420
    },
    "id": "AVU31o7XQPqM"
   },
   "outputs": [],
   "source": [
    "data = extract(dataset ,11 ,64 ,16 ,8)"
   ]
  },
  {
   "cell_type": "markdown",
   "metadata": {
    "id": "tB66ZNs9nrwb"
   },
   "source": [
    "# How to Divide Data into Training and Testing Sets"
   ]
  },
  {
   "cell_type": "code",
   "execution_count": 6,
   "metadata": {
    "executionInfo": {
     "elapsed": 4356,
     "status": "ok",
     "timestamp": 1721966583078,
     "user": {
      "displayName": "رياض هيثم",
      "userId": "17802608446207188246"
     },
     "user_tz": 420
    },
    "id": "EMVB7NhenrQb"
   },
   "outputs": [],
   "source": [
    "from sklearn.model_selection import train_test_split\n",
    "n_fea = 64\n",
    "time_window = 16\n",
    "no_longfeature = n_fea * time_window\n",
    "data_seg_feature = data[:, :no_longfeature]\n",
    "data_seg_label = data[:, no_longfeature:no_longfeature+1]\n",
    "train_feature, test_feature, train_label, test_label = train_test_split(data_seg_feature, data_seg_label,test_size=0.2, shuffle=True)"
   ]
  },
  {
   "cell_type": "code",
   "execution_count": 7,
   "metadata": {
    "colab": {
     "base_uri": "https://localhost:8080/"
    },
    "executionInfo": {
     "elapsed": 6,
     "status": "ok",
     "timestamp": 1721966583079,
     "user": {
      "displayName": "رياض هيثم",
      "userId": "17802608446207188246"
     },
     "user_tz": 420
    },
    "id": "uily9RW6r3Q0",
    "outputId": "d2d498f8-c1cf-47ff-d9cf-2e7cf83befce"
   },
   "outputs": [
    {
     "data": {
      "text/plain": [
       "(25807, 1024)"
      ]
     },
     "execution_count": 7,
     "metadata": {},
     "output_type": "execute_result"
    }
   ],
   "source": [
    "train_feature.shape"
   ]
  },
  {
   "cell_type": "code",
   "execution_count": 8,
   "metadata": {
    "colab": {
     "base_uri": "https://localhost:8080/"
    },
    "executionInfo": {
     "elapsed": 5,
     "status": "ok",
     "timestamp": 1721966583079,
     "user": {
      "displayName": "رياض هيثم",
      "userId": "17802608446207188246"
     },
     "user_tz": 420
    },
    "id": "JaVIW_u9sN1Y",
    "outputId": "143acb78-39ed-4811-ec1d-0955122309dc"
   },
   "outputs": [
    {
     "data": {
      "text/plain": [
       "(6452, 1024)"
      ]
     },
     "execution_count": 8,
     "metadata": {},
     "output_type": "execute_result"
    }
   ],
   "source": [
    "test_feature.shape"
   ]
  },
  {
   "cell_type": "markdown",
   "metadata": {
    "id": "OktcZNmJ6quJ"
   },
   "source": [
    "# Data Preprocessing"
   ]
  },
  {
   "cell_type": "code",
   "execution_count": 9,
   "metadata": {
    "executionInfo": {
     "elapsed": 1962,
     "status": "ok",
     "timestamp": 1721966585038,
     "user": {
      "displayName": "رياض هيثم",
      "userId": "17802608446207188246"
     },
     "user_tz": 420
    },
    "id": "gT0ag5Cc6wU7"
   },
   "outputs": [],
   "source": [
    "from sklearn.preprocessing import StandardScaler\n",
    "scaler1 = StandardScaler().fit(train_feature)\n",
    "train_fea_norm1 = scaler1.transform(train_feature) # normalize the training data\n",
    "test_fea_norm1 = scaler1.transform(test_feature) # normalize the test data"
   ]
  },
  {
   "cell_type": "markdown",
   "metadata": {
    "id": "uGMI3fLpAx_d"
   },
   "source": [
    "# Building a CNN Network"
   ]
  },
  {
   "cell_type": "code",
   "execution_count": 10,
   "metadata": {
    "executionInfo": {
     "elapsed": 7931,
     "status": "ok",
     "timestamp": 1721966592967,
     "user": {
      "displayName": "رياض هيثم",
      "userId": "17802608446207188246"
     },
     "user_tz": 420
    },
    "id": "Yrpk7X17J5BV"
   },
   "outputs": [],
   "source": [
    "import torch\n",
    "import torch.nn as nn\n",
    "import torch.nn.functional as F"
   ]
  },
  {
   "cell_type": "code",
   "execution_count": 11,
   "metadata": {
    "executionInfo": {
     "elapsed": 417,
     "status": "ok",
     "timestamp": 1721966816204,
     "user": {
      "displayName": "رياض هيثم",
      "userId": "17802608446207188246"
     },
     "user_tz": 420
    },
    "id": "Uxka8Aed6voa"
   },
   "outputs": [],
   "source": [
    "class CNN(nn.Module):\n",
    "    def __init__(self):\n",
    "        super(CNN, self).__init__()\n",
    "        self.conv1 = nn.Sequential(\n",
    "            nn.Conv2d(\n",
    "                in_channels=1,\n",
    "                out_channels=16,\n",
    "                kernel_size=(2,4),\n",
    "                stride=1,\n",
    "                padding= (1,2)  #([1,2]-1)/2,\n",
    "            ),\n",
    "            nn.ReLU(),\n",
    "            nn.MaxPool2d((2,4))\n",
    "        )\n",
    "        self.conv2 = nn.Sequential(\n",
    "            nn.Conv2d(16, 32, (2,2), stride=1, padding=1),\n",
    "            nn.ReLU(),\n",
    "            nn.MaxPool2d((2, 2))\n",
    "        )\n",
    "        self.fc = nn.Linear(1024, 128)  # 64*2*4\n",
    "        self.out = nn.Linear(128, n_class)\n",
    "\n",
    "    def forward(self, x):\n",
    "        x = self.conv1(x)\n",
    "        x = self.conv2(x)\n",
    "        x = x.view(x.size(0), -1)\n",
    "\n",
    "        x = F.relu(self.fc(x))\n",
    "        output = self.out(x)\n",
    "        return x"
   ]
  },
  {
   "cell_type": "code",
   "execution_count": null,
   "metadata": {},
   "outputs": [],
   "source": []
  }
 ],
 "metadata": {
  "colab": {
   "authorship_tag": "ABX9TyMEPq9b9phjktRFLKTxEkbd",
   "mount_file_id": "1sxszpAVMe-nX629YewcFOsaK4ouEJvEd",
   "provenance": []
  },
  "kernelspec": {
   "display_name": ".venv",
   "language": "python",
   "name": "python3"
  },
  "language_info": {
   "codemirror_mode": {
    "name": "ipython",
    "version": 3
   },
   "file_extension": ".py",
   "mimetype": "text/x-python",
   "name": "python",
   "nbconvert_exporter": "python",
   "pygments_lexer": "ipython3",
   "version": "3.9.12"
  }
 },
 "nbformat": 4,
 "nbformat_minor": 0
}
