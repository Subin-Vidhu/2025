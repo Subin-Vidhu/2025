{
 "cells": [
  {
   "cell_type": "markdown",
   "metadata": {
    "id": "RlyRtMZuEdIH"
   },
   "source": [
    "# Loading the data"
   ]
  },
  {
   "cell_type": "code",
   "execution_count": 1,
   "metadata": {
    "executionInfo": {
     "elapsed": 3,
     "status": "ok",
     "timestamp": 1721526723101,
     "user": {
      "displayName": "رياض هيثم",
      "userId": "17802608446207188246"
     },
     "user_tz": 420
    },
    "id": "-Bodh1yX_CLV"
   },
   "outputs": [],
   "source": [
    "import numpy as np"
   ]
  },
  {
   "cell_type": "code",
   "execution_count": 2,
   "metadata": {
    "executionInfo": {
     "elapsed": 2343,
     "status": "ok",
     "timestamp": 1721526949566,
     "user": {
      "displayName": "رياض هيثم",
      "userId": "17802608446207188246"
     },
     "user_tz": 420
    },
    "id": "ET2WnEc1_RQ8"
   },
   "outputs": [],
   "source": [
    "dataset = np.load(\"./1.npy\")"
   ]
  },
  {
   "cell_type": "code",
   "execution_count": 3,
   "metadata": {
    "colab": {
     "base_uri": "https://localhost:8080/"
    },
    "executionInfo": {
     "elapsed": 369,
     "status": "ok",
     "timestamp": 1721526968861,
     "user": {
      "displayName": "رياض هيثم",
      "userId": "17802608446207188246"
     },
     "user_tz": 420
    },
    "id": "wvzxZyxiAKo-",
    "outputId": "c093fbad-11de-44d6-c96f-f01a78f9e801"
   },
   "outputs": [
    {
     "data": {
      "text/plain": [
       "(259520, 65)"
      ]
     },
     "execution_count": 3,
     "metadata": {},
     "output_type": "execute_result"
    }
   ],
   "source": [
    "dataset.shape"
   ]
  }
 ],
 "metadata": {
  "colab": {
   "authorship_tag": "ABX9TyM1Aalb+0+fb6AewaJbpBou",
   "mount_file_id": "1sxszpAVMe-nX629YewcFOsaK4ouEJvEd",
   "provenance": []
  },
  "kernelspec": {
   "display_name": ".venv",
   "language": "python",
   "name": "python3"
  },
  "language_info": {
   "codemirror_mode": {
    "name": "ipython",
    "version": 3
   },
   "file_extension": ".py",
   "mimetype": "text/x-python",
   "name": "python",
   "nbconvert_exporter": "python",
   "pygments_lexer": "ipython3",
   "version": "3.9.12"
  }
 },
 "nbformat": 4,
 "nbformat_minor": 0
}
