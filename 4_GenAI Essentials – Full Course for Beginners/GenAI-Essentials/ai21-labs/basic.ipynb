{
 "cells": [
  {
   "cell_type": "code",
   "execution_count": 2,
   "metadata": {},
   "outputs": [
    {
     "name": "stdout",
     "output_type": "stream",
     "text": [
      "Note: you may need to restart the kernel to use updated packages.\n"
     ]
    }
   ],
   "source": [
    "%pip install -q ai21 python-dotenv"
   ]
  },
  {
   "cell_type": "code",
   "execution_count": 6,
   "metadata": {},
   "outputs": [],
   "source": [
    "import os\n",
    "import dotenv\n",
    "dotenv.load_dotenv()\n",
    "from ai21 import AI21Client\n",
    "from ai21.models.chat import ResponseFormat\n",
    "from ai21.models.chat import UserMessage"
   ]
  },
  {
   "cell_type": "code",
   "execution_count": 7,
   "metadata": {},
   "outputs": [
    {
     "name": "stdout",
     "output_type": "stream",
     "text": [
      "id='chatcmpl-c20912ed-2a5a-4ded-823a-2284500eb584' choices=[ChatCompletionResponseChoice(index=0, message=AssistantMessage(role='assistant', content='The Eiffel Tower can be 15 cm taller during the summer due to thermal expansion from the heat.', tool_calls=None), logprobs=None, finish_reason='stop')] usage=UsageInfo(prompt_tokens=29, completion_tokens=23, total_tokens=52)\n"
     ]
    }
   ],
   "source": [
    "\n",
    "messages = [\n",
    "    UserMessage(\n",
    "        content=\"Tell me something I don't know. Limit the response to 30 words maximum.\"\n",
    "    )\n",
    "]\n",
    "client = AI21Client(api_key=os.environ.get(\"AI21_API_KEY\"))\n",
    "response = client.chat.completions.create(\n",
    "\t\tmodel=\"jamba-1.5-large\",\n",
    "\t\tmessages=messages,\n",
    "\t\tn=1,\n",
    "\t\tmax_tokens=2048,\n",
    "\t\ttemperature=0.4,\n",
    "\t\ttop_p=1,\n",
    "\t\tresponse_format=ResponseFormat(type=\"text\"),\n",
    ")\n",
    "print(response)"
   ]
  }
 ],
 "metadata": {
  "kernelspec": {
   "display_name": "Python 3",
   "language": "python",
   "name": "python3"
  },
  "language_info": {
   "codemirror_mode": {
    "name": "ipython",
    "version": 3
   },
   "file_extension": ".py",
   "mimetype": "text/x-python",
   "name": "python",
   "nbconvert_exporter": "python",
   "pygments_lexer": "ipython3",
   "version": "3.12.1"
  }
 },
 "nbformat": 4,
 "nbformat_minor": 2
}
