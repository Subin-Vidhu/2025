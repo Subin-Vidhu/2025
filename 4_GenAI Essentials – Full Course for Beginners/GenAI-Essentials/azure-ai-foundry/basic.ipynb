{
 "cells": [
  {
   "cell_type": "markdown",
   "id": "b719e32e-85fe-4c1f-b903-71560ec02d89",
   "metadata": {},
   "source": [
    "https://learn.microsoft.com/en-us/azure/ai-studio/how-to/develop/sdk-overview?WT.mc_id=academic-112432-pablolopes&tabs=sync&pivots=programming-language-python"
   ]
  },
  {
   "cell_type": "code",
   "execution_count": null,
   "id": "eec980d6-f101-44f1-b179-196dc7de2a25",
   "metadata": {
    "tags": []
   },
   "outputs": [],
   "source": [
    "%pip install azure-ai-inference azure-ai-projects azure-identity"
   ]
  },
  {
   "cell_type": "code",
   "execution_count": 5,
   "id": "14fec947-9d31-4b7f-adcd-d507f49a4e63",
   "metadata": {
    "tags": []
   },
   "outputs": [],
   "source": [
    "from azure.identity import DefaultAzureCredential\n",
    "from azure.ai.projects import AIProjectClient\n",
    "\n",
    "project_connection_string=\"YOUR STRING\"\n",
    "\n",
    "project = AIProjectClient.from_connection_string(\n",
    "  conn_str=project_connection_string,\n",
    "  credential=DefaultAzureCredential())"
   ]
  },
  {
   "cell_type": "code",
   "execution_count": 6,
   "id": "5ac005f4-e2b7-4c2d-b71c-1a2352dc6d66",
   "metadata": {
    "tags": []
   },
   "outputs": [],
   "source": [
    "chat = project.inference.get_chat_completions_client()"
   ]
  },
  {
   "cell_type": "code",
   "execution_count": 7,
   "id": "6130a973-c3e5-40d3-bbaf-b36d579e7027",
   "metadata": {
    "tags": []
   },
   "outputs": [
    {
     "name": "stdout",
     "output_type": "stream",
     "text": [
      "In gardens wide and meadows green,  \n",
      "A tapestry of blooms is seen.  \n",
      "With vibrant hues and sweet perfumes,  \n",
      "The world awakes as nature blooms.  \n",
      "\n",
      "Roses blush with crimson pride,  \n",
      "In the gentle breeze, they glide.  \n",
      "Lilies stand with regal grace,  \n",
      "Pure as sunlight's warm embrace.  \n",
      "\n",
      "Daisies, with their cheerful eyes,  \n",
      "Whisper secrets to the skies.  \n",
      "Tulips, like a lover's sigh,  \n",
      "Paint the world with colors high.  \n",
      "\n",
      "Sunflowers turn with faithful gaze,  \n",
      "Following the sun's gold blaze.  \n",
      "Violets hide in shadows meek,  \n",
      "Yet their beauty softly speaks.  \n",
      "\n",
      "Each petal speaks a silent song,  \n",
      "Of seasons swift and days so long.  \n",
      "In every bloom, a story told,  \n",
      "Of life's sweet dance, both new and old.  \n",
      "\n",
      "So let us wander through this sea,  \n",
      "Of blossoms bright and wild and free.  \n",
      "For in their fleeting, fragrant hours,  \n",
      "The heart finds peace among the flowers.  \n"
     ]
    }
   ],
   "source": [
    "response = chat.complete(\n",
    "    model=\"gpt-4o\",\n",
    "    messages=[\n",
    "        {\"role\": \"system\", \"content\": \"You are a helpful writing assistant\"},\n",
    "        {\"role\": \"user\", \"content\": \"Write me a poem about flowers\"},\n",
    "    ]\n",
    ")\n",
    "\n",
    "print(response.choices[0].message.content)"
   ]
  },
  {
   "cell_type": "code",
   "execution_count": null,
   "id": "62a7458e-d9af-45b6-a340-a2d79daf4c57",
   "metadata": {},
   "outputs": [],
   "source": []
  }
 ],
 "metadata": {
  "kernelspec": {
   "display_name": "Python 3 (ipykernel)",
   "language": "python",
   "name": "python3"
  },
  "language_info": {
   "codemirror_mode": {
    "name": "ipython",
    "version": 3
   },
   "file_extension": ".py",
   "mimetype": "text/x-python",
   "name": "python",
   "nbconvert_exporter": "python",
   "pygments_lexer": "ipython3",
   "version": "3.10.11"
  }
 },
 "nbformat": 4,
 "nbformat_minor": 5
}
