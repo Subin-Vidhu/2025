{
 "cells": [
  {
   "cell_type": "code",
   "execution_count": 1,
   "id": "2967dcb5-98fe-4eb8-a578-a065ace537c4",
   "metadata": {},
   "outputs": [],
   "source": [
    "import boto3"
   ]
  },
  {
   "cell_type": "code",
   "execution_count": 2,
   "id": "0ec30389-05a7-4cdb-8f08-47c36074c80d",
   "metadata": {},
   "outputs": [],
   "source": [
    "client = boto3.client('bedrock-runtime')"
   ]
  },
  {
   "cell_type": "code",
   "execution_count": 4,
   "id": "5bfe75f8-1626-4615-ab88-d892ed71ee04",
   "metadata": {},
   "outputs": [],
   "source": [
    "response = client.converse(\n",
    "  modelId='amazon.nova-micro-v1:0',\n",
    "  messages=[{'role': 'user',  'content': [{'text': 'Hello, Whats the weahter like,around here?',}]}],\n",
    "  system=[{'text': \"You're correcting my english grammer and spelling mistakes.\"}]\n",
    ")"
   ]
  },
  {
   "cell_type": "code",
   "execution_count": 5,
   "id": "74ab62ee-45b1-495f-820b-0634dc4f9255",
   "metadata": {},
   "outputs": [
    {
     "name": "stdout",
     "output_type": "stream",
     "text": [
      "{'ResponseMetadata': {'RequestId': '713cb087-8516-49f4-8ead-2d3ad20b7a65', 'HTTPStatusCode': 200, 'HTTPHeaders': {'date': 'Wed, 11 Dec 2024 17:16:25 GMT', 'content-type': 'application/json', 'content-length': '502', 'connection': 'keep-alive', 'x-amzn-requestid': '713cb087-8516-49f4-8ead-2d3ad20b7a65'}, 'RetryAttempts': 0}, 'output': {'message': {'role': 'assistant', 'content': [{'text': 'Sure, here is the corrected version of your sentence:\\n\\n\"Hello, what\\'s the weather like around here?\"\\n\\nHere are the changes I made:\\n1. Capitalized the first letter of the sentence.\\n2. Added an apostrophe in \"whats\" to make it \"what\\'s\" (a contraction for \"what is\").\\n3. Corrected \"weahter\" to \"weather.\"'}]}}, 'stopReason': 'end_turn', 'usage': {'inputTokens': 25, 'outputTokens': 81, 'totalTokens': 106}, 'metrics': {'latencyMs': 652}}\n"
     ]
    }
   ],
   "source": [
    "print(response)"
   ]
  },
  {
   "cell_type": "code",
   "execution_count": 10,
   "id": "fc7c320a-bc4f-459c-8093-b7be17a93f7b",
   "metadata": {},
   "outputs": [
    {
     "name": "stdout",
     "output_type": "stream",
     "text": [
      "Sure, here is the corrected version of your sentence:\n",
      "\n",
      "\"Hello, what's the weather like around here?\"\n",
      "\n",
      "Here are the changes I made:\n",
      "1. Capitalized the first letter of the sentence.\n",
      "2. Added an apostrophe in \"whats\" to make it \"what's\" (a contraction for \"what is\").\n",
      "3. Corrected \"weahter\" to \"weather.\"\n"
     ]
    }
   ],
   "source": [
    "print(response['output']['message']['content'][0]['text'])"
   ]
  },
  {
   "cell_type": "code",
   "execution_count": null,
   "id": "15da89b0-996a-4827-9e48-a785c835ab18",
   "metadata": {},
   "outputs": [],
   "source": []
  }
 ],
 "metadata": {
  "kernelspec": {
   "display_name": "Python 3 (ipykernel)",
   "language": "python",
   "name": "python3"
  },
  "language_info": {
   "codemirror_mode": {
    "name": "ipython",
    "version": 3
   },
   "file_extension": ".py",
   "mimetype": "text/x-python",
   "name": "python",
   "nbconvert_exporter": "python",
   "pygments_lexer": "ipython3",
   "version": "3.11.10"
  }
 },
 "nbformat": 4,
 "nbformat_minor": 5
}
