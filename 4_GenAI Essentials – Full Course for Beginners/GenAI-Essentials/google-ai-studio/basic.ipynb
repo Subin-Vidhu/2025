{
 "cells": [
  {
   "cell_type": "code",
   "execution_count": 2,
   "metadata": {},
   "outputs": [
    {
     "name": "stdout",
     "output_type": "stream",
     "text": [
      "Note: you may need to restart the kernel to use updated packages.\n"
     ]
    }
   ],
   "source": [
    "%pip install -q -U google-generativeai python-dotenv"
   ]
  },
  {
   "cell_type": "code",
   "execution_count": 4,
   "metadata": {},
   "outputs": [
    {
     "data": {
      "text/plain": [
       "True"
      ]
     },
     "execution_count": 4,
     "metadata": {},
     "output_type": "execute_result"
    }
   ],
   "source": [
    "import dotenv\n",
    "import os\n",
    "dotenv.load_dotenv()"
   ]
  },
  {
   "cell_type": "code",
   "execution_count": 5,
   "metadata": {},
   "outputs": [
    {
     "name": "stderr",
     "output_type": "stream",
     "text": [
      "/home/codespace/.python/current/lib/python3.12/site-packages/tqdm/auto.py:21: TqdmWarning: IProgress not found. Please update jupyter and ipywidgets. See https://ipywidgets.readthedocs.io/en/stable/user_install.html\n",
      "  from .autonotebook import tqdm as notebook_tqdm\n"
     ]
    },
    {
     "name": "stdout",
     "output_type": "stream",
     "text": [
      "Artificial intelligence (AI) is a broad field encompassing various techniques that enable computers to mimic human intelligence.  There's no single \"how it works\" answer, as different AI approaches employ different methods.  However, we can break it down into key concepts:\n",
      "\n",
      "**1. Data is King:**  AI systems learn from data.  The more relevant and high-quality data you feed an AI, the better it performs.  This data can be anything from images and text to sensor readings and financial transactions.\n",
      "\n",
      "**2. Algorithms are the Brain:** Algorithms are sets of rules and statistical techniques that AI uses to process and learn from data.  These algorithms are designed to identify patterns, make predictions, and solve problems.  Some common algorithm types include:\n",
      "\n",
      "* **Machine Learning (ML):**  This is a subset of AI where systems learn from data without explicit programming.  Instead of being explicitly told what to do, they identify patterns and relationships in the data to improve their performance over time.  Types of ML include:\n",
      "    * **Supervised Learning:** The algorithm is trained on labeled data (e.g., images labeled as \"cat\" or \"dog\").  It learns to map inputs to outputs based on this labeled data.\n",
      "    * **Unsupervised Learning:** The algorithm is trained on unlabeled data and tries to find structure or patterns in the data on its own (e.g., clustering similar customers together).\n",
      "    * **Reinforcement Learning:** The algorithm learns through trial and error by interacting with an environment.  It receives rewards for good actions and penalties for bad actions, learning to maximize its cumulative reward.\n",
      "\n",
      "* **Deep Learning (DL):** A subset of machine learning that uses artificial neural networks with multiple layers (hence \"deep\").  These networks are inspired by the structure and function of the human brain and are particularly good at handling complex data like images, speech, and text.  Examples include Convolutional Neural Networks (CNNs) for image recognition and Recurrent Neural Networks (RNNs) for natural language processing.\n",
      "\n",
      "**3. Models Represent Knowledge:**  As an AI system learns, it builds a *model* that represents the patterns and relationships it has discovered in the data.  This model can be a mathematical equation, a set of rules, or a complex neural network.  This model allows the AI to make predictions or decisions on new, unseen data.\n",
      "\n",
      "**4. Training and Evaluation:**  AI systems are trained on large datasets.  During training, the algorithm adjusts its internal parameters to minimize errors and improve its performance.  The performance is then evaluated on a separate dataset (a test set) to ensure it generalizes well to new data and doesn't just memorize the training data.\n",
      "\n",
      "**5. Inference (Prediction):** Once trained, the AI model can be used to make predictions or decisions on new data – this is called inference.  For example, an image recognition system might infer that a picture contains a cat.\n",
      "\n",
      "**In Simple Terms:** Imagine teaching a dog a trick.  You show the dog (data), reward it for doing the trick correctly (training), and eventually, the dog learns the trick (model).  The dog can then perform the trick on command (inference).  AI works similarly, but instead of a dog, it's a computer algorithm, and instead of tricks, it's complex tasks.\n",
      "\n",
      "It's important to remember that AI is constantly evolving.  New algorithms and techniques are being developed all the time, pushing the boundaries of what's possible.  While the core concepts remain similar, the specifics can be highly complex and specialized.\n",
      "\n"
     ]
    }
   ],
   "source": [
    "import google.generativeai as genai\n",
    "\n",
    "genai.configure(api_key=os.environ.get(\"GOOGLE_API_KEY\"))\n",
    "model = genai.GenerativeModel(\"gemini-1.5-flash\")\n",
    "response = model.generate_content(\"Explain how AI works\")\n",
    "print(response.text)"
   ]
  }
 ],
 "metadata": {
  "kernelspec": {
   "display_name": "Python 3",
   "language": "python",
   "name": "python3"
  },
  "language_info": {
   "codemirror_mode": {
    "name": "ipython",
    "version": 3
   },
   "file_extension": ".py",
   "mimetype": "text/x-python",
   "name": "python",
   "nbconvert_exporter": "python",
   "pygments_lexer": "ipython3",
   "version": "3.12.1"
  }
 },
 "nbformat": 4,
 "nbformat_minor": 2
}
