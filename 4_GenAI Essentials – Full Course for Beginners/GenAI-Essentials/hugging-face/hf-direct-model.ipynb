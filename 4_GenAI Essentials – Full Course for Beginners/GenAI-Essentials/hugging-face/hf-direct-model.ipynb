{
 "cells": [
  {
   "cell_type": "code",
   "execution_count": null,
   "id": "af63297a-cf9d-4672-8def-980a9d444ae3",
   "metadata": {},
   "outputs": [],
   "source": [
    "%pip install -q transformers python-dotenv "
   ]
  },
  {
   "cell_type": "code",
   "execution_count": null,
   "id": "7ded0eab-5701-4cdc-b125-7d4199b3ff78",
   "metadata": {},
   "outputs": [],
   "source": [
    "%pip install torch"
   ]
  },
  {
   "cell_type": "code",
   "execution_count": null,
   "id": "cfe18ece-bbac-4b8f-ade0-7467a9db6d7c",
   "metadata": {},
   "outputs": [],
   "source": [
    "from dotenv import load_dotenv\n",
    "import os\n",
    "\n",
    "# Specify the path to env.txt\n",
    "load_dotenv(\"env.txt\")"
   ]
  },
  {
   "cell_type": "code",
   "execution_count": null,
   "id": "f4c975a5-2e2d-4f76-b7c0-bbfceb608acb",
   "metadata": {},
   "outputs": [],
   "source": [
    "from transformers import AutoTokenizer, AutoModelForCausalLM\n",
    "\n",
    "model_path = \"./models/\"\n",
    "\n",
    "# Download the tokenizer and model\n",
    "tokenizer = AutoTokenizer.from_pretrained(\"meta-llama/Llama-3.2-1B\", cache_dir=model_path)\n",
    "model = AutoModelForCausalLM.from_pretrained(\"meta-llama/Llama-3.2-1B\", cache_dir=model_path)"
   ]
  },
  {
   "cell_type": "code",
   "execution_count": null,
   "id": "0ccd9820-c93e-4da0-a990-8d1e47dc0b2d",
   "metadata": {},
   "outputs": [],
   "source": [
    "import torch\n",
    "device = \"cuda\" if torch.cuda.is_available() else \"cpu\"\n",
    "model.to(device)"
   ]
  },
  {
   "cell_type": "code",
   "execution_count": null,
   "id": "9c4aef67-58dc-4af2-9a5b-88516ca1ac2e",
   "metadata": {},
   "outputs": [],
   "source": [
    "# Function to generate text\n",
    "def generate_text(prompt, max_new_tokens=50, temperature=0.7, top_p=0.9):\n",
    "  input_ids = tokenizer(prompt, return_tensors=\"pt\").input_ids.to(device)\n",
    "  output_ids = model.generate(input_ids, max_new_tokens=max_new_tokens, temperature=temperature, top_p=top_p)\n",
    "  output_text = tokenizer.decode(output_ids[0], skip_special_tokens=True)\n",
    "  return output_text"
   ]
  },
  {
   "cell_type": "code",
   "execution_count": null,
   "id": "60439a79-de35-4b06-96fe-aff587072ac2",
   "metadata": {},
   "outputs": [],
   "source": [
    "# Start the chat loop\n",
    "while True:\n",
    "  user_input = input(\"User: \")\n",
    "  if user_input.lower() == \"quit\":\n",
    "    break\n",
    "  response = generate_text(user_input)\n",
    "  print(\"Llama 3.2:\", response)"
   ]
  },
  {
   "cell_type": "code",
   "execution_count": null,
   "id": "3acfe9e1-85a1-4164-93e0-c16cdef5f3dd",
   "metadata": {},
   "outputs": [],
   "source": []
  }
 ],
 "metadata": {
  "kernelspec": {
   "display_name": "Python 3",
   "language": "python",
   "name": "python3"
  },
  "language_info": {
   "codemirror_mode": {
    "name": "ipython",
    "version": 3
   },
   "file_extension": ".py",
   "mimetype": "text/x-python",
   "name": "python",
   "nbconvert_exporter": "python",
   "pygments_lexer": "ipython3",
   "version": "3.10.10"
  }
 },
 "nbformat": 4,
 "nbformat_minor": 5
}
