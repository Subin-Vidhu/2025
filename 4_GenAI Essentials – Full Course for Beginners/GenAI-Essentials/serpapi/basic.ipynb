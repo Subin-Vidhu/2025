{
 "cells": [
  {
   "cell_type": "code",
   "execution_count": 5,
   "metadata": {},
   "outputs": [
    {
     "name": "stdout",
     "output_type": "stream",
     "text": [
      "Collecting google-search-results\n",
      "  Downloading google_search_results-2.4.2.tar.gz (18 kB)\n",
      "  Installing build dependencies ... \u001b[?25ldone\n",
      "\u001b[?25h  Getting requirements to build wheel ... \u001b[?25ldone\n",
      "\u001b[?25h  Preparing metadata (pyproject.toml) ... \u001b[?25ldone\n",
      "\u001b[?25hRequirement already satisfied: python-dotenv in /home/codespace/.python/current/lib/python3.12/site-packages (1.0.1)\n",
      "Requirement already satisfied: requests in /home/codespace/.local/lib/python3.12/site-packages (from google-search-results) (2.32.3)\n",
      "Requirement already satisfied: charset-normalizer<4,>=2 in /home/codespace/.local/lib/python3.12/site-packages (from requests->google-search-results) (3.4.0)\n",
      "Requirement already satisfied: idna<4,>=2.5 in /home/codespace/.local/lib/python3.12/site-packages (from requests->google-search-results) (3.10)\n",
      "Requirement already satisfied: urllib3<3,>=1.21.1 in /home/codespace/.local/lib/python3.12/site-packages (from requests->google-search-results) (2.2.3)\n",
      "Requirement already satisfied: certifi>=2017.4.17 in /home/codespace/.local/lib/python3.12/site-packages (from requests->google-search-results) (2024.8.30)\n",
      "Building wheels for collected packages: google-search-results\n",
      "  Building wheel for google-search-results (pyproject.toml) ... \u001b[?25ldone\n",
      "\u001b[?25h  Created wheel for google-search-results: filename=google_search_results-2.4.2-py3-none-any.whl size=32009 sha256=f5cd12db450798649d16aa5f3ba9634793e91f0f59997284b3aa47e9d2fbbf99\n",
      "  Stored in directory: /home/codespace/.cache/pip/wheels/0c/47/f5/89b7e770ab2996baf8c910e7353d6391e373075a0ac213519e\n",
      "Successfully built google-search-results\n",
      "Installing collected packages: google-search-results\n",
      "Successfully installed google-search-results-2.4.2\n",
      "Note: you may need to restart the kernel to use updated packages.\n"
     ]
    }
   ],
   "source": [
    "%pip install google-search-results python-dotenv"
   ]
  },
  {
   "cell_type": "code",
   "execution_count": 17,
   "metadata": {},
   "outputs": [
    {
     "data": {
      "text/plain": [
       "True"
      ]
     },
     "execution_count": 17,
     "metadata": {},
     "output_type": "execute_result"
    }
   ],
   "source": [
    "import os\n",
    "import dotenv\n",
    "import json\n",
    "dotenv.load_dotenv()"
   ]
  },
  {
   "cell_type": "code",
   "execution_count": 2,
   "metadata": {},
   "outputs": [],
   "source": [
    "from serpapi import GoogleSearch"
   ]
  },
  {
   "cell_type": "code",
   "execution_count": 10,
   "metadata": {},
   "outputs": [],
   "source": [
    "params = {\n",
    "  \"engine\": \"google\",\n",
    "  \"q\": \"のは bunpro\",\n",
    "  \"api_key\": os.environ.get('SERP_API_KEY')\n",
    "}\n",
    "\n",
    "search = GoogleSearch(params)\n",
    "results = search.get_dict()\n",
    "organic_results = results[\"organic_results\"]\n"
   ]
  },
  {
   "cell_type": "code",
   "execution_count": 11,
   "metadata": {},
   "outputs": [
    {
     "name": "stdout",
     "output_type": "stream",
     "text": [
      "[\n",
      "    {\n",
      "        \"position\": 1,\n",
      "        \"title\": \"Adjective + \\u306e(\\u306f) (JLPT N5)\",\n",
      "        \"link\": \"https://bunpro.jp/grammar_points/adjective-%E3%81%AE-%E3%81%AF\",\n",
      "        \"redirect_link\": \"https://www.google.com/url?sa=t&source=web&rct=j&opi=89978449&url=https://bunpro.jp/grammar_points/adjective-%25E3%2581%25AE-%25E3%2581%25AF&ved=2ahUKEwiH-uKd7dKKAxUodfUHHXNHHcMQFnoECBoQAQ\",\n",
      "        \"displayed_link\": \"https://bunpro.jp \\u203a grammar_points \\u203a adjective-\\u306e-\\u306f\",\n",
      "        \"favicon\": \"https://serpapi.com/searches/677454d9572a94f5fe6293e8/images/baa7d92468b281f5b9e357edd80470395e4e75e212a2ff93b7dcff11381d0313.png\",\n",
      "        \"snippet\": \"One of the roles that the particle \\u306e can take in Japanese is replacing a noun that has already been mentioned, or one that has not been mentioned yet.\",\n",
      "        \"source\": \"Bunpro\"\n",
      "    },\n",
      "    {\n",
      "        \"position\": 2,\n",
      "        \"title\": \"\\u306e (JLPT N5)\",\n",
      "        \"link\": \"https://bunpro.jp/grammar_points/%E3%81%AE%E3%81%AF\",\n",
      "        \"redirect_link\": \"https://www.google.com/url?sa=t&source=web&rct=j&opi=89978449&url=https://bunpro.jp/grammar_points/%25E3%2581%25AE%25E3%2581%25AF&ved=2ahUKEwiH-uKd7dKKAxUodfUHHXNHHcMQFnoECBcQAQ\",\n",
      "        \"displayed_link\": \"https://bunpro.jp \\u203a \\u306e\\u306f\",\n",
      "        \"favicon\": \"https://serpapi.com/searches/677454d9572a94f5fe6293e8/images/baa7d92468b281f5b9e357edd8047039f30396e6f9bf477633f84e3bdda0d851.png\",\n",
      "        \"snippet\": \"In Japanese, \\u306e\\u306f and \\u306e\\u304c behave in a very similar way to the words 'that' and 'which' in English. This means that they perform a task called ...\",\n",
      "        \"source\": \"Bunpro\"\n",
      "    },\n",
      "    {\n",
      "        \"position\": 3,\n",
      "        \"title\": \"Adjective + \\u306e(\\u306f) (\\u65e5\\u672c\\u8a9e\\u80fd\\u529b\\u8a66\\u9a13 N5)\",\n",
      "        \"link\": \"https://bunpro.jp/ja/grammar_points/adjective-%E3%81%AE-%E3%81%AF\",\n",
      "        \"redirect_link\": \"https://www.google.com/url?sa=t&source=web&rct=j&opi=89978449&url=https://bunpro.jp/ja/grammar_points/adjective-%25E3%2581%25AE-%25E3%2581%25AF&ved=2ahUKEwiH-uKd7dKKAxUodfUHHXNHHcMQFnoECBYQAQ\",\n",
      "        \"displayed_link\": \"https://bunpro.jp \\u203a grammar_points\",\n",
      "        \"favicon\": \"https://serpapi.com/searches/677454d9572a94f5fe6293e8/images/baa7d92468b281f5b9e357edd80470396bab46ad1cf15d96922fc8751a82782a.png\",\n",
      "        \"snippet\": \"\\u300cAdjective + \\u306e(\\u306f)\\u300d\\u306e\\u60c5\\u5831 \\u00b7 \\u53ef\\u611b ( \\u304b\\u308f\\u3044 ) \\u3044\\u306e\\u306f \\u79c1 ( \\u308f\\u305f\\u3057 ) \\u306e \\u72ac ( \\u3044\\u306c ) \\u3067\\u3059\\u3002 The one that is cute is my dog. \\u00b7 \\u5fc3\\u914d ( \\u3057\\u3093\\u3071\\u3044 ) \\u306a\\u306e\\u306f\\u3042\\u306a\\u305f\\u3067\\u3059\\u3002\",\n",
      "        \"source\": \"Bunpro\"\n",
      "    },\n",
      "    {\n",
      "        \"position\": 4,\n",
      "        \"title\": \"\\u306e(\\u306f) - Grammar Discussion\",\n",
      "        \"link\": \"https://community.bunpro.jp/t/grammar-discussion/503\",\n",
      "        \"redirect_link\": \"https://www.google.com/url?sa=t&source=web&rct=j&opi=89978449&url=https://community.bunpro.jp/t/grammar-discussion/503&ved=2ahUKEwiH-uKd7dKKAxUodfUHHXNHHcMQFnoECBkQAQ\",\n",
      "        \"displayed_link\": \"https://community.bunpro.jp \\u203a grammar-discussion\",\n",
      "        \"favicon\": \"https://serpapi.com/searches/677454d9572a94f5fe6293e8/images/baa7d92468b281f5b9e357edd8047039382bcdbabc367708c8c08d7f3efb8e07.png\",\n",
      "        \"date\": \"Aug 8, 2018\",\n",
      "        \"snippet\": \"Basically, it is used when you want to use a verb like a noun. It is sometimes called \\u201cnouning\\u201d. For example some constructions (like \\u597d\\u304d) ...\",\n",
      "        \"source\": \"Bunpro Community\"\n",
      "    },\n",
      "    {\n",
      "        \"position\": 5,\n",
      "        \"title\": \"\\u306e\\u306fX\\u306e\\u65b9\\u3060 (JLPT N3)\",\n",
      "        \"link\": \"https://bunpro.jp/grammar_points/%E3%81%AE%E3%81%AFx%E3%81%AE%E6%96%B9%E3%81%A0\",\n",
      "        \"redirect_link\": \"https://www.google.com/url?sa=t&source=web&rct=j&opi=89978449&url=https://bunpro.jp/grammar_points/%25E3%2581%25AE%25E3%2581%25AFx%25E3%2581%25AE%25E6%2596%25B9%25E3%2581%25A0&ved=2ahUKEwiH-uKd7dKKAxUodfUHHXNHHcMQFnoECBwQAQ\",\n",
      "        \"displayed_link\": \"https://bunpro.jp \\u203a grammar_points\",\n",
      "        \"favicon\": \"https://serpapi.com/searches/677454d9572a94f5fe6293e8/images/baa7d92468b281f5b9e357edd8047039be1ed149e329239c1a64c80deda5a6f0.png\",\n",
      "        \"snippet\": \"\\u306e\\u306f\\uff5e\\u306e\\u65b9\\u3060 is an expression used to show that (A) (usually despite expectations) is (B). It can be translated as 'the one that (A), is (B)'.\",\n",
      "        \"source\": \"Bunpro\"\n",
      "    },\n",
      "    {\n",
      "        \"position\": 6,\n",
      "        \"title\": \"Adjective + \\u306e(\\u306f) - Grammar Discussion\",\n",
      "        \"link\": \"https://community.bunpro.jp/t/adjective-grammar-discussion/6984\",\n",
      "        \"redirect_link\": \"https://www.google.com/url?sa=t&source=web&rct=j&opi=89978449&url=https://community.bunpro.jp/t/adjective-grammar-discussion/6984&ved=2ahUKEwiH-uKd7dKKAxUodfUHHXNHHcMQFnoECB0QAQ\",\n",
      "        \"displayed_link\": \"https://community.bunpro.jp \\u203a adjective-grammar-discu...\",\n",
      "        \"favicon\": \"https://serpapi.com/searches/677454d9572a94f5fe6293e8/images/baa7d92468b281f5b9e357edd80470399cb2691693706606f73c3bc84894b09d.png\",\n",
      "        \"snippet\": \"\\u5f7c\\u5973 \\u304b\\u306e\\u3058\\u3087 \\u304c \\u7d20\\u6575 \\u3059\\u3066\\u304d \\u306a \\u306e\\u306f \\u670d \\u3075\\u304f \\u3060\\u3051\\u3060\\u3002 The only (one) thing that is great about her is her clothes.\",\n",
      "        \"source\": \"Bunpro Community\"\n",
      "    },\n",
      "    {\n",
      "        \"position\": 7,\n",
      "        \"title\": \"\\u306e (JLPT N5)\",\n",
      "        \"link\": \"https://bunpro.jp/grammar_points/%E3%81%AE\",\n",
      "        \"redirect_link\": \"https://www.google.com/url?sa=t&source=web&rct=j&opi=89978449&url=https://bunpro.jp/grammar_points/%25E3%2581%25AE&ved=2ahUKEwiH-uKd7dKKAxUodfUHHXNHHcMQFnoECBsQAQ\",\n",
      "        \"displayed_link\": \"https://bunpro.jp \\u203a grammar_points \\u203a \\u306e\",\n",
      "        \"favicon\": \"https://serpapi.com/searches/677454d9572a94f5fe6293e8/images/baa7d92468b281f5b9e357edd8047039c5f28bf60ac7ab1d29fb861a6c7a51af.png\",\n",
      "        \"snippet\": \"Caution. \\u306e is usually used after nouns, but can also be used after other types of words, specifically when it is transforming them into a noun-like phrase.\",\n",
      "        \"source\": \"Bunpro\"\n",
      "    },\n",
      "    {\n",
      "        \"position\": 8,\n",
      "        \"title\": \"Bunpro Japanese SRS - Apps on Google Play\",\n",
      "        \"link\": \"https://play.google.com/store/apps/details?id=bunpro.jp.bunpro_srs\",\n",
      "        \"redirect_link\": \"https://www.google.com/url?sa=t&source=web&rct=j&opi=89978449&url=https://play.google.com/store/apps/details%3Fid%3Dbunpro.jp.bunpro_srs&ved=2ahUKEwiH-uKd7dKKAxUodfUHHXNHHcMQFnoECDgQAQ\",\n",
      "        \"displayed_link\": \"https://play.google.com \\u203a store \\u203a apps \\u203a details \\u203a id=bun...\",\n",
      "        \"favicon\": \"https://serpapi.com/searches/677454d9572a94f5fe6293e8/images/baa7d92468b281f5b9e357edd8047039e8c52aedc72ab55dfadc0687f35d16e7.png\",\n",
      "        \"snippet\": \"The app, when it loads, is good. The interface is straightforward and there are a lot of example sentences and external resource links. However, the app will ...\",\n",
      "        \"rich_snippet\": {\n",
      "            \"top\": {\n",
      "                \"detected_extensions\": {\n",
      "                    \"rating\": 4.8,\n",
      "                    \"reviews\": 1049\n",
      "                },\n",
      "                \"extensions\": [\n",
      "                    \"4.8(1,049)\",\n",
      "                    \"Free\",\n",
      "                    \"Android\",\n",
      "                    \"Educational\"\n",
      "                ]\n",
      "            }\n",
      "        },\n",
      "        \"source\": \"Google Play\"\n",
      "    },\n",
      "    {\n",
      "        \"position\": 9,\n",
      "        \"title\": \"\\u306f (JLPT N5)\",\n",
      "        \"link\": \"https://bunpro.jp/grammar_points/%E3%81%AF\",\n",
      "        \"redirect_link\": \"https://www.google.com/url?sa=t&source=web&rct=j&opi=89978449&url=https://bunpro.jp/grammar_points/%25E3%2581%25AF&ved=2ahUKEwiH-uKd7dKKAxUodfUHHXNHHcMQFnoECDYQAQ\",\n",
      "        \"displayed_link\": \"https://bunpro.jp \\u203a grammar_points \\u203a \\u306f\",\n",
      "        \"favicon\": \"https://serpapi.com/searches/677454d9572a94f5fe6293e8/images/baa7d92468b281f5b9e357edd80470390e48d70019d3eb082b17c134c23d961d.png\",\n",
      "        \"snippet\": \"\\u306f has 2 main functions. The first marks the topic of the sentence, the second is used for contrast or making comparisons. Although there are no 'strict' rules ...\",\n",
      "        \"source\": \"Bunpro\"\n",
      "    },\n",
      "    {\n",
      "        \"position\": 10,\n",
      "        \"title\": \"\\u6587\\u30d7\\u30ed(Bunpro): N1 Grammar available in Japanese!\",\n",
      "        \"link\": \"https://community.wanikani.com/t/%E6%96%87%E3%83%97%E3%83%ADbunpro-n1-grammar-available-in-japanese-november-2024-japanese-grammar-and-vocab-srs/19756?page=45\",\n",
      "        \"redirect_link\": \"https://www.google.com/url?sa=t&source=web&rct=j&opi=89978449&url=https://community.wanikani.com/t/%25E6%2596%2587%25E3%2583%2597%25E3%2583%25ADbunpro-n1-grammar-available-in-japanese-november-2024-japanese-grammar-and-vocab-srs/19756%3Fpage%3D45&ved=2ahUKEwiH-uKd7dKKAxUodfUHHXNHHcMQFnoECDcQAQ\",\n",
      "        \"displayed_link\": \"https://community.wanikani.com \\u203a ...\",\n",
      "        \"favicon\": \"https://serpapi.com/searches/677454d9572a94f5fe6293e8/images/baa7d92468b281f5b9e357edd80470397522bfeb81f620dfcca6587a9fa43011.png\",\n",
      "        \"snippet\": \"\\u6587\\u30d7\\u30ed(Bunpro) is a website that is designed to simplify Japanese study. From very basic beginnings, we have slowly but surely evolved into a full-fledged ...\",\n",
      "        \"snippet_highlighted_words\": [\n",
      "            \"Bunpro\"\n",
      "        ],\n",
      "        \"source\": \"WaniKani Community\"\n",
      "    }\n",
      "]\n"
     ]
    }
   ],
   "source": [
    "print(json.dumps(organic_results, indent=4))"
   ]
  },
  {
   "cell_type": "code",
   "execution_count": 12,
   "metadata": {},
   "outputs": [
    {
     "name": "stdout",
     "output_type": "stream",
     "text": [
      "Requirement already satisfied: requests in /home/codespace/.local/lib/python3.12/site-packages (2.32.3)\n",
      "Requirement already satisfied: beautifulsoup4 in /home/codespace/.local/lib/python3.12/site-packages (4.12.3)\n",
      "Requirement already satisfied: charset-normalizer<4,>=2 in /home/codespace/.local/lib/python3.12/site-packages (from requests) (3.4.0)\n",
      "Requirement already satisfied: idna<4,>=2.5 in /home/codespace/.local/lib/python3.12/site-packages (from requests) (3.10)\n",
      "Requirement already satisfied: urllib3<3,>=1.21.1 in /home/codespace/.local/lib/python3.12/site-packages (from requests) (2.2.3)\n",
      "Requirement already satisfied: certifi>=2017.4.17 in /home/codespace/.local/lib/python3.12/site-packages (from requests) (2024.8.30)\n",
      "Requirement already satisfied: soupsieve>1.2 in /home/codespace/.local/lib/python3.12/site-packages (from beautifulsoup4) (2.6)\n",
      "Note: you may need to restart the kernel to use updated packages.\n"
     ]
    }
   ],
   "source": [
    "%pip install requests beautifulsoup4"
   ]
  },
  {
   "cell_type": "code",
   "execution_count": 13,
   "metadata": {},
   "outputs": [],
   "source": [
    "import requests\n",
    "from bs4 import BeautifulSoup\n",
    "\n",
    "def scrape_and_clean(url):\n",
    "    # Fetch the webpage content\n",
    "    try:\n",
    "        response = requests.get(url)\n",
    "        response.raise_for_status()  # Raise an exception for bad status codes\n",
    "    except requests.RequestException as e:\n",
    "        return f\"Error fetching the URL: {e}\"\n",
    "    \n",
    "    # Parse HTML with BeautifulSoup\n",
    "    soup = BeautifulSoup(response.text, 'html.parser')\n",
    "    \n",
    "    # Remove script and style elements\n",
    "    for script in soup([\"script\", \"style\"]):\n",
    "        script.decompose()\n",
    "    \n",
    "    # Get text and clean it\n",
    "    text = soup.get_text()\n",
    "    \n",
    "    # Clean up the text\n",
    "    # Break into lines and remove leading/trailing space\n",
    "    lines = (line.strip() for line in text.splitlines())\n",
    "    # Break multi-headlines into a line each\n",
    "    chunks = (phrase.strip() for line in lines for phrase in line.split(\"  \"))\n",
    "    # Drop blank lines\n",
    "    text = ' '.join(chunk for chunk in chunks if chunk)\n",
    "    \n",
    "    return text"
   ]
  },
  {
   "cell_type": "code",
   "execution_count": 14,
   "metadata": {},
   "outputs": [
    {
     "name": "stdout",
     "output_type": "stream",
     "text": [
      "Adjective + の(は) (JLPT N5) | BunproLoading user data...BunproGrammar InfoN5 Lesson 10: 7/12(Adjective) + のはThe 'one' that... (Indefinite pronoun, Adjective nominalization)DetailsExamplesResourcesAdjective + の(は)The 'one' that... (Indefinite pronoun, Adjective nominalization)DetailsExamplesResourcesDetailsExamplesResourcesReady to transform your studies?Learn N5 in under a month!Try now, no credit card required!Try BunproLearn MoreStructure［な］Adjective + な + の + は(1)［い］Adjective + の + は(1)(1) が、もDetailsPart of SpeechExpressionWord TypeCase Marking ParticleRegisterStandardAbout Adjective + の(は)One of the roles that the particle の can take in Japanese is replacing a noun that has already been mentioned, or one that has not been mentioned yet. In this way, it is similar to 'the one that (A)' in English. When using this expression, we will need to use な before の, when a な-Adjective is being used. When using this expression, の will be followed by は, が, or も, depending on what the speaker/writer wants to express. Caution の may be used more than once in the same sentence, referring to the same noun. ここにある車の中で好きなのはあの赤いの。 Out of the cars that are here, the one that I like is that red one over there.SynonymsのVerb nominalizer, The one who..., That which...Not studied yetParticle + のCombined particlesNot studied yetExamples--:--SentenceTranslation新しいのは彼の車だ。The one that is new is his car.元気なのは社長です。The one that is energetic is the manager.難しいのは歴史だ。The one that is difficult is history.彼女が素敵なのは服だけだ。The only (one) thing that is great about her is her clothes.暑いのも好きだから、エアコンがなくてもいい。I also like the heat, so it's alright if I don't have an air conditioner.Get more example sentences!Premium users get access to 12 example sentences on all Grammar Points.Try BunproSelf-Study SentencesStudy your own way!Add sentences and study them alongside Bunpro sentences.Try BunproOnlineAdjective + のもJapanese StackExchangeMeaning of 「〜の(は)」 after an adjectiveBunpro Community Discussionの: one (indefinite pronoun)Maggie SenseiOfflineGenki I 2nd EditionPage 233みんなの日本語 IPage 81 [CH 12][DBJG] A Dictionary of Basic Japanese GrammarPage 315Track Resources!Bunpro tracks all of the resources you’ve visited, and offers relevant bookmarks of physical books to help with offline tracking.Try BunproAdjective + の(は) – Grammar DiscussionMost Recent Replies (17 in total)pasiWhy does 「この家の中で一番明るい部屋はどれ？」息子の部屋が一番明るいの not take のは? Is it just because it is at the end of the sentence? The grammar point text doesn’t give any examples of it without the second particle.NinToasterI would guess that its informal speech and thus the は particle is removed to make it easier to say since its already known in the previous sentence (Case Omission).KattosanI’m guessing that is a explanatory の.Got questions about Adjective + の(は)? Join us to discuss, ask, and learn together!Join the DiscussionBunproSimplifying JapaneseOfficial AppsLearn MoreJoin us!CompanyNewsCareersAbout UsTestimonialsAcknowledgementsFor TeachersJapaneseOfficial ForumsContent SearchReading PracticeGrammar ListKana PracticeSupportContact UsSupport & FAQ© 2024, Bunpro SRS. Read our Terms of Service, Privacy Policy and Company Overview.Made with ❤️ from Osaka.English\n"
     ]
    }
   ],
   "source": [
    "# Example usage\n",
    "url = organic_results[0]['link']\n",
    "clean_text = scrape_and_clean(url)\n",
    "print(clean_text)"
   ]
  },
  {
   "cell_type": "code",
   "execution_count": 16,
   "metadata": {},
   "outputs": [
    {
     "name": "stdout",
     "output_type": "stream",
     "text": [
      "Note: you may need to restart the kernel to use updated packages.\n"
     ]
    }
   ],
   "source": [
    "%pip install -q anthropic"
   ]
  },
  {
   "cell_type": "code",
   "execution_count": 18,
   "metadata": {},
   "outputs": [],
   "source": [
    "import anthropic\n",
    "\n",
    "client = anthropic.Anthropic()\n",
    "\n",
    "model_id = \"claude-3-5-sonnet-20241022\"\n",
    "\n",
    "messages=[{\n",
    "  \"role\": \"user\",\n",
    "  \"content\": f\"Please extract out the example japanese sentences an provide them in a bullet list from this text: {clean_text}\",\n",
    "}]\n",
    "\n",
    "message = client.messages.create(\n",
    "    model=model_id,\n",
    "    max_tokens=1000,\n",
    "    temperature=0,\n",
    "    messages=messages\n",
    ")\n"
   ]
  },
  {
   "cell_type": "code",
   "execution_count": 19,
   "metadata": {},
   "outputs": [
    {
     "name": "stdout",
     "output_type": "stream",
     "text": [
      "[TextBlock(text='Here are the example Japanese sentences from the text in a bullet list:\\n\\n• 新しいのは彼の車だ。\\n• 元気なのは社長です。\\n• 難しいのは歴史だ。\\n• 彼女が素敵なのは服だけだ。\\n• 暑いのも好きだから、エアコンがなくてもいい。\\n• ここにある車の中で好きなのはあの赤いの。', type='text')]\n"
     ]
    }
   ],
   "source": [
    "print(message.content)"
   ]
  }
 ],
 "metadata": {
  "kernelspec": {
   "display_name": "Python 3",
   "language": "python",
   "name": "python3"
  },
  "language_info": {
   "codemirror_mode": {
    "name": "ipython",
    "version": 3
   },
   "file_extension": ".py",
   "mimetype": "text/x-python",
   "name": "python",
   "nbconvert_exporter": "python",
   "pygments_lexer": "ipython3",
   "version": "3.12.1"
  }
 },
 "nbformat": 4,
 "nbformat_minor": 2
}
