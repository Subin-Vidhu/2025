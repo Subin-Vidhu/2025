{
 "cells": [
  {
   "cell_type": "markdown",
   "id": "65e7af58",
   "metadata": {
    "deletable": false,
    "editable": false,
    "nbgrader": {
     "cell_type": "markdown",
     "checksum": "2a8aa388e93513e21d3e9786776f8f3a",
     "grade": false,
     "grade_id": "cell-59191c7a1c7f0a87",
     "locked": true,
     "schema_version": 3,
     "solution": false,
     "task": false
    }
   },
   "source": [
    "## Objective\n",
    "In this lab, you will analyze a customer dataset to identify key factors influencing customer churn, create visualizations to explore the data, and build a predictive model using machine learning. The goal is to extract actionable insights and present your findings in a comprehensive report.\n",
    "## Scenario\n",
    "You are a data analyst at a fast-growing subscription-based service company. The company is concerned about customer churn—customers canceling their subscriptions—and has tasked you with analyzing customer data. Your objectives are to identify key factors that influence churn and build a predictive model to identify customers at risk of leaving.\n",
    "## Materials Provided\n",
    "- A dataset (`customer_churn.csv`) preloaded into a Pandas DataFrame named `df`.\n",
    "- Python environment with essential libraries such as Pandas, Scikit-Learn, Matplotlib, and Seaborn pre-installed.\n",
    "\n",
    "## High-Level Tasks\n",
    "1. **Load and Explore the Data**\n",
    "2. **Data Cleaning and Preprocessing**\n",
    "3. **Exploratory Data Analysis (EDA) and Visualization**\n",
    "4. **Machine Learning Model Building and Evaluation**\n",
    "5. **Presenting Findings in a Comprehensive Report**"
   ]
  },
  {
   "cell_type": "markdown",
   "id": "234ed846",
   "metadata": {
    "deletable": false,
    "editable": false,
    "nbgrader": {
     "cell_type": "markdown",
     "checksum": "ee8a4e63e43f8901c17d5fa960484f4e",
     "grade": false,
     "grade_id": "cell-e4ce7e813121158d",
     "locked": true,
     "schema_version": 3,
     "solution": false,
     "task": false
    }
   },
   "source": [
    "## Lab Instructions\n",
    "### 1. Load and Explore the Data (5 minutes)\n",
    "#### Step 1.1: Import the required Python library and load dataset."
   ]
  },
  {
   "cell_type": "code",
   "execution_count": 1,
   "id": "9fc26eb7",
   "metadata": {},
   "outputs": [],
   "source": [
    "import pandas as pd \n",
    "df = pd.read_csv(\"customer_churn.csv\")"
   ]
  },
  {
   "cell_type": "markdown",
   "id": "3df408dd",
   "metadata": {
    "deletable": false,
    "editable": false,
    "nbgrader": {
     "cell_type": "markdown",
     "checksum": "24a9da9d3285318df30d99fb2d658599",
     "grade": false,
     "grade_id": "cell-a36743524e5e62c3",
     "locked": true,
     "schema_version": 3,
     "solution": false,
     "task": false
    }
   },
   "source": [
    "#### Step 1.2: Display the First 5 Rows\n",
    "Use the provided code cell to display the first 5 rows of the dataset."
   ]
  },
  {
   "cell_type": "code",
   "execution_count": 2,
   "id": "0d6f5949",
   "metadata": {},
   "outputs": [
    {
     "data": {
      "text/html": [
       "<div>\n",
       "<style scoped>\n",
       "    .dataframe tbody tr th:only-of-type {\n",
       "        vertical-align: middle;\n",
       "    }\n",
       "\n",
       "    .dataframe tbody tr th {\n",
       "        vertical-align: top;\n",
       "    }\n",
       "\n",
       "    .dataframe thead th {\n",
       "        text-align: right;\n",
       "    }\n",
       "</style>\n",
       "<table border=\"1\" class=\"dataframe\">\n",
       "  <thead>\n",
       "    <tr style=\"text-align: right;\">\n",
       "      <th></th>\n",
       "      <th>Unnamed: 0</th>\n",
       "      <th>Churn</th>\n",
       "      <th>AccountWeeks</th>\n",
       "      <th>ContractRenewal</th>\n",
       "      <th>DataPlan</th>\n",
       "      <th>DataUsage</th>\n",
       "      <th>CustServCalls</th>\n",
       "      <th>DayMins</th>\n",
       "      <th>DayCalls</th>\n",
       "      <th>MonthlyCharge</th>\n",
       "      <th>OverageFee</th>\n",
       "      <th>RoamMins</th>\n",
       "    </tr>\n",
       "  </thead>\n",
       "  <tbody>\n",
       "    <tr>\n",
       "      <th>0</th>\n",
       "      <td>0</td>\n",
       "      <td>0</td>\n",
       "      <td>128</td>\n",
       "      <td>Yes</td>\n",
       "      <td>1</td>\n",
       "      <td>2.7</td>\n",
       "      <td>1</td>\n",
       "      <td>265.1</td>\n",
       "      <td>110</td>\n",
       "      <td>89.0</td>\n",
       "      <td>9.87</td>\n",
       "      <td>10.0</td>\n",
       "    </tr>\n",
       "    <tr>\n",
       "      <th>1</th>\n",
       "      <td>1</td>\n",
       "      <td>0</td>\n",
       "      <td>107</td>\n",
       "      <td>Yes</td>\n",
       "      <td>1</td>\n",
       "      <td>3.7</td>\n",
       "      <td>1</td>\n",
       "      <td>161.6</td>\n",
       "      <td>123</td>\n",
       "      <td>82.0</td>\n",
       "      <td>9.78</td>\n",
       "      <td>13.7</td>\n",
       "    </tr>\n",
       "    <tr>\n",
       "      <th>2</th>\n",
       "      <td>2</td>\n",
       "      <td>0</td>\n",
       "      <td>137</td>\n",
       "      <td>Yes</td>\n",
       "      <td>0</td>\n",
       "      <td>0.0</td>\n",
       "      <td>0</td>\n",
       "      <td>243.4</td>\n",
       "      <td>114</td>\n",
       "      <td>52.0</td>\n",
       "      <td>6.06</td>\n",
       "      <td>12.2</td>\n",
       "    </tr>\n",
       "    <tr>\n",
       "      <th>3</th>\n",
       "      <td>3</td>\n",
       "      <td>0</td>\n",
       "      <td>84</td>\n",
       "      <td>No</td>\n",
       "      <td>0</td>\n",
       "      <td>0.0</td>\n",
       "      <td>2</td>\n",
       "      <td>299.4</td>\n",
       "      <td>71</td>\n",
       "      <td>57.0</td>\n",
       "      <td>3.10</td>\n",
       "      <td>6.6</td>\n",
       "    </tr>\n",
       "    <tr>\n",
       "      <th>4</th>\n",
       "      <td>4</td>\n",
       "      <td>0</td>\n",
       "      <td>75</td>\n",
       "      <td>No</td>\n",
       "      <td>0</td>\n",
       "      <td>0.0</td>\n",
       "      <td>3</td>\n",
       "      <td>166.7</td>\n",
       "      <td>113</td>\n",
       "      <td>41.0</td>\n",
       "      <td>7.42</td>\n",
       "      <td>10.1</td>\n",
       "    </tr>\n",
       "  </tbody>\n",
       "</table>\n",
       "</div>"
      ],
      "text/plain": [
       "   Unnamed: 0  Churn  AccountWeeks ContractRenewal  DataPlan  DataUsage  \\\n",
       "0           0      0           128             Yes         1        2.7   \n",
       "1           1      0           107             Yes         1        3.7   \n",
       "2           2      0           137             Yes         0        0.0   \n",
       "3           3      0            84              No         0        0.0   \n",
       "4           4      0            75              No         0        0.0   \n",
       "\n",
       "   CustServCalls  DayMins  DayCalls  MonthlyCharge  OverageFee  RoamMins  \n",
       "0              1    265.1       110           89.0        9.87      10.0  \n",
       "1              1    161.6       123           82.0        9.78      13.7  \n",
       "2              0    243.4       114           52.0        6.06      12.2  \n",
       "3              2    299.4        71           57.0        3.10       6.6  \n",
       "4              3    166.7       113           41.0        7.42      10.1  "
      ]
     },
     "execution_count": 2,
     "metadata": {},
     "output_type": "execute_result"
    }
   ],
   "source": [
    "# Display the first 5 rows of the dataframe\n",
    "df.head()"
   ]
  },
  {
   "cell_type": "markdown",
   "id": "812c93f5",
   "metadata": {
    "deletable": false,
    "editable": false,
    "nbgrader": {
     "cell_type": "markdown",
     "checksum": "28c230e20f8d7dd5ae0f578ea86a0c81",
     "grade": false,
     "grade_id": "cell-c5919c794353da0c",
     "locked": true,
     "schema_version": 3,
     "solution": false,
     "task": false
    }
   },
   "source": [
    "#### Step 1.3: Examine Column Names and Data Types\n",
    "Inspect the column names and data types using `df.info()`."
   ]
  },
  {
   "cell_type": "code",
   "execution_count": 3,
   "id": "50f1c785",
   "metadata": {},
   "outputs": [
    {
     "name": "stdout",
     "output_type": "stream",
     "text": [
      "<class 'pandas.core.frame.DataFrame'>\n",
      "RangeIndex: 3333 entries, 0 to 3332\n",
      "Data columns (total 12 columns):\n",
      " #   Column           Non-Null Count  Dtype  \n",
      "---  ------           --------------  -----  \n",
      " 0   Unnamed: 0       3333 non-null   int64  \n",
      " 1   Churn            3333 non-null   int64  \n",
      " 2   AccountWeeks     3333 non-null   int64  \n",
      " 3   ContractRenewal  3333 non-null   object \n",
      " 4   DataPlan         3333 non-null   int64  \n",
      " 5   DataUsage        3333 non-null   float64\n",
      " 6   CustServCalls    3333 non-null   int64  \n",
      " 7   DayMins          3333 non-null   float64\n",
      " 8   DayCalls         3333 non-null   int64  \n",
      " 9   MonthlyCharge    3333 non-null   float64\n",
      " 10  OverageFee       3333 non-null   float64\n",
      " 11  RoamMins         3333 non-null   float64\n",
      "dtypes: float64(5), int64(6), object(1)\n",
      "memory usage: 312.6+ KB\n"
     ]
    }
   ],
   "source": [
    "# Display column names and data types\n",
    "### YOUR CODE HERE ###\n",
    "df.info()"
   ]
  },
  {
   "cell_type": "markdown",
   "id": "ff0430b8",
   "metadata": {
    "deletable": false,
    "editable": false,
    "nbgrader": {
     "cell_type": "markdown",
     "checksum": "1e03d3329ae46bdc50de0d4d1360227f",
     "grade": false,
     "grade_id": "cell-41c64d088594a528",
     "locked": true,
     "schema_version": 3,
     "solution": false,
     "task": false
    }
   },
   "source": [
    "#### Step 1.4: Get Summary Statistics\n",
    "Get summary statistics of numerical columns using `df.describe()`."
   ]
  },
  {
   "cell_type": "code",
   "execution_count": 4,
   "id": "5e1285bb",
   "metadata": {},
   "outputs": [
    {
     "data": {
      "text/html": [
       "<div>\n",
       "<style scoped>\n",
       "    .dataframe tbody tr th:only-of-type {\n",
       "        vertical-align: middle;\n",
       "    }\n",
       "\n",
       "    .dataframe tbody tr th {\n",
       "        vertical-align: top;\n",
       "    }\n",
       "\n",
       "    .dataframe thead th {\n",
       "        text-align: right;\n",
       "    }\n",
       "</style>\n",
       "<table border=\"1\" class=\"dataframe\">\n",
       "  <thead>\n",
       "    <tr style=\"text-align: right;\">\n",
       "      <th></th>\n",
       "      <th>Unnamed: 0</th>\n",
       "      <th>Churn</th>\n",
       "      <th>AccountWeeks</th>\n",
       "      <th>DataPlan</th>\n",
       "      <th>DataUsage</th>\n",
       "      <th>CustServCalls</th>\n",
       "      <th>DayMins</th>\n",
       "      <th>DayCalls</th>\n",
       "      <th>MonthlyCharge</th>\n",
       "      <th>OverageFee</th>\n",
       "      <th>RoamMins</th>\n",
       "    </tr>\n",
       "  </thead>\n",
       "  <tbody>\n",
       "    <tr>\n",
       "      <th>count</th>\n",
       "      <td>3333.00000</td>\n",
       "      <td>3333.000000</td>\n",
       "      <td>3333.000000</td>\n",
       "      <td>3333.000000</td>\n",
       "      <td>3333.000000</td>\n",
       "      <td>3333.000000</td>\n",
       "      <td>3333.000000</td>\n",
       "      <td>3333.000000</td>\n",
       "      <td>3333.000000</td>\n",
       "      <td>3333.000000</td>\n",
       "      <td>3333.000000</td>\n",
       "    </tr>\n",
       "    <tr>\n",
       "      <th>mean</th>\n",
       "      <td>1666.00000</td>\n",
       "      <td>0.144914</td>\n",
       "      <td>101.064806</td>\n",
       "      <td>0.276628</td>\n",
       "      <td>0.816475</td>\n",
       "      <td>1.562856</td>\n",
       "      <td>179.775098</td>\n",
       "      <td>100.435644</td>\n",
       "      <td>56.305161</td>\n",
       "      <td>10.051488</td>\n",
       "      <td>10.237294</td>\n",
       "    </tr>\n",
       "    <tr>\n",
       "      <th>std</th>\n",
       "      <td>962.29855</td>\n",
       "      <td>0.352067</td>\n",
       "      <td>39.822106</td>\n",
       "      <td>0.447398</td>\n",
       "      <td>1.272668</td>\n",
       "      <td>1.315491</td>\n",
       "      <td>54.467389</td>\n",
       "      <td>20.069084</td>\n",
       "      <td>16.426032</td>\n",
       "      <td>2.535712</td>\n",
       "      <td>2.791840</td>\n",
       "    </tr>\n",
       "    <tr>\n",
       "      <th>min</th>\n",
       "      <td>0.00000</td>\n",
       "      <td>0.000000</td>\n",
       "      <td>1.000000</td>\n",
       "      <td>0.000000</td>\n",
       "      <td>0.000000</td>\n",
       "      <td>0.000000</td>\n",
       "      <td>0.000000</td>\n",
       "      <td>0.000000</td>\n",
       "      <td>14.000000</td>\n",
       "      <td>0.000000</td>\n",
       "      <td>0.000000</td>\n",
       "    </tr>\n",
       "    <tr>\n",
       "      <th>25%</th>\n",
       "      <td>833.00000</td>\n",
       "      <td>0.000000</td>\n",
       "      <td>74.000000</td>\n",
       "      <td>0.000000</td>\n",
       "      <td>0.000000</td>\n",
       "      <td>1.000000</td>\n",
       "      <td>143.700000</td>\n",
       "      <td>87.000000</td>\n",
       "      <td>45.000000</td>\n",
       "      <td>8.330000</td>\n",
       "      <td>8.500000</td>\n",
       "    </tr>\n",
       "    <tr>\n",
       "      <th>50%</th>\n",
       "      <td>1666.00000</td>\n",
       "      <td>0.000000</td>\n",
       "      <td>101.000000</td>\n",
       "      <td>0.000000</td>\n",
       "      <td>0.000000</td>\n",
       "      <td>1.000000</td>\n",
       "      <td>179.400000</td>\n",
       "      <td>101.000000</td>\n",
       "      <td>53.500000</td>\n",
       "      <td>10.070000</td>\n",
       "      <td>10.300000</td>\n",
       "    </tr>\n",
       "    <tr>\n",
       "      <th>75%</th>\n",
       "      <td>2499.00000</td>\n",
       "      <td>0.000000</td>\n",
       "      <td>127.000000</td>\n",
       "      <td>1.000000</td>\n",
       "      <td>1.780000</td>\n",
       "      <td>2.000000</td>\n",
       "      <td>216.400000</td>\n",
       "      <td>114.000000</td>\n",
       "      <td>66.200000</td>\n",
       "      <td>11.770000</td>\n",
       "      <td>12.100000</td>\n",
       "    </tr>\n",
       "    <tr>\n",
       "      <th>max</th>\n",
       "      <td>3332.00000</td>\n",
       "      <td>1.000000</td>\n",
       "      <td>243.000000</td>\n",
       "      <td>1.000000</td>\n",
       "      <td>5.400000</td>\n",
       "      <td>9.000000</td>\n",
       "      <td>350.800000</td>\n",
       "      <td>165.000000</td>\n",
       "      <td>111.300000</td>\n",
       "      <td>18.190000</td>\n",
       "      <td>20.000000</td>\n",
       "    </tr>\n",
       "  </tbody>\n",
       "</table>\n",
       "</div>"
      ],
      "text/plain": [
       "       Unnamed: 0        Churn  AccountWeeks     DataPlan    DataUsage  \\\n",
       "count  3333.00000  3333.000000   3333.000000  3333.000000  3333.000000   \n",
       "mean   1666.00000     0.144914    101.064806     0.276628     0.816475   \n",
       "std     962.29855     0.352067     39.822106     0.447398     1.272668   \n",
       "min       0.00000     0.000000      1.000000     0.000000     0.000000   \n",
       "25%     833.00000     0.000000     74.000000     0.000000     0.000000   \n",
       "50%    1666.00000     0.000000    101.000000     0.000000     0.000000   \n",
       "75%    2499.00000     0.000000    127.000000     1.000000     1.780000   \n",
       "max    3332.00000     1.000000    243.000000     1.000000     5.400000   \n",
       "\n",
       "       CustServCalls      DayMins     DayCalls  MonthlyCharge   OverageFee  \\\n",
       "count    3333.000000  3333.000000  3333.000000    3333.000000  3333.000000   \n",
       "mean        1.562856   179.775098   100.435644      56.305161    10.051488   \n",
       "std         1.315491    54.467389    20.069084      16.426032     2.535712   \n",
       "min         0.000000     0.000000     0.000000      14.000000     0.000000   \n",
       "25%         1.000000   143.700000    87.000000      45.000000     8.330000   \n",
       "50%         1.000000   179.400000   101.000000      53.500000    10.070000   \n",
       "75%         2.000000   216.400000   114.000000      66.200000    11.770000   \n",
       "max         9.000000   350.800000   165.000000     111.300000    18.190000   \n",
       "\n",
       "          RoamMins  \n",
       "count  3333.000000  \n",
       "mean     10.237294  \n",
       "std       2.791840  \n",
       "min       0.000000  \n",
       "25%       8.500000  \n",
       "50%      10.300000  \n",
       "75%      12.100000  \n",
       "max      20.000000  "
      ]
     },
     "execution_count": 4,
     "metadata": {},
     "output_type": "execute_result"
    }
   ],
   "source": [
    "# Get summary statistics of numerical columns\n",
    "### YOUR CODE HERE ###\n",
    "df.describe()"
   ]
  },
  {
   "cell_type": "markdown",
   "id": "b429bb6b",
   "metadata": {
    "deletable": false,
    "editable": false,
    "nbgrader": {
     "cell_type": "markdown",
     "checksum": "294b5947c696b654c8806da8d6e889d4",
     "grade": false,
     "grade_id": "cell-0e5a9d5bf6967c0c",
     "locked": true,
     "schema_version": 3,
     "solution": false,
     "task": false
    }
   },
   "source": [
    "#### Step 1.5: Remove CSV Index Column\n",
    "The index from the csv turned into a column and should be dropped. Use `df.drop` to get rid of the `Unnamed: 0` column. Then use `df.describe()` again to confirm the column is removed."
   ]
  },
  {
   "cell_type": "code",
   "execution_count": 5,
   "id": "21665c45",
   "metadata": {},
   "outputs": [
    {
     "name": "stdout",
     "output_type": "stream",
     "text": [
      "             Churn  AccountWeeks     DataPlan    DataUsage  CustServCalls  \\\n",
      "count  3333.000000   3333.000000  3333.000000  3333.000000    3333.000000   \n",
      "mean      0.144914    101.064806     0.276628     0.816475       1.562856   \n",
      "std       0.352067     39.822106     0.447398     1.272668       1.315491   \n",
      "min       0.000000      1.000000     0.000000     0.000000       0.000000   \n",
      "25%       0.000000     74.000000     0.000000     0.000000       1.000000   \n",
      "50%       0.000000    101.000000     0.000000     0.000000       1.000000   \n",
      "75%       0.000000    127.000000     1.000000     1.780000       2.000000   \n",
      "max       1.000000    243.000000     1.000000     5.400000       9.000000   \n",
      "\n",
      "           DayMins     DayCalls  MonthlyCharge   OverageFee     RoamMins  \n",
      "count  3333.000000  3333.000000    3333.000000  3333.000000  3333.000000  \n",
      "mean    179.775098   100.435644      56.305161    10.051488    10.237294  \n",
      "std      54.467389    20.069084      16.426032     2.535712     2.791840  \n",
      "min       0.000000     0.000000      14.000000     0.000000     0.000000  \n",
      "25%     143.700000    87.000000      45.000000     8.330000     8.500000  \n",
      "50%     179.400000   101.000000      53.500000    10.070000    10.300000  \n",
      "75%     216.400000   114.000000      66.200000    11.770000    12.100000  \n",
      "max     350.800000   165.000000     111.300000    18.190000    20.000000  \n"
     ]
    }
   ],
   "source": [
    "# Drop the 'Unnamed: 0' column\n",
    "df = df.drop('Unnamed: 0', axis=1)\n",
    "\n",
    "# Confirm the column is removed\n",
    "print(df.describe())"
   ]
  },
  {
   "cell_type": "markdown",
   "id": "ef5f21a9",
   "metadata": {
    "deletable": false,
    "editable": false,
    "nbgrader": {
     "cell_type": "markdown",
     "checksum": "53b4c953899daf95881453d532a5763a",
     "grade": false,
     "grade_id": "cell-3e0dddd9fcc5b801",
     "locked": true,
     "schema_version": 3,
     "solution": false,
     "task": false
    }
   },
   "source": [
    "#### Step 1.6: Identify Potential Features and Target Variable\n",
    "Select all features from the dataset, except churn (e.g., `“AccountWeeks”`, `“DataPlan”`, `“Data Usage”`, etc) and set the target variable (`'Churn'`)."
   ]
  },
  {
   "cell_type": "code",
   "execution_count": 10,
   "id": "22424b15",
   "metadata": {},
   "outputs": [
    {
     "name": "stdout",
     "output_type": "stream",
     "text": [
      "Features shape: (3333, 10)\n",
      "Target shape: (3333,)\n"
     ]
    }
   ],
   "source": [
    "# Select all features and set target variable\n",
    "### YOUR CODE HERE ###\n",
    "# Define the features (all columns except 'Churn')\n",
    "# Define the target variable\n",
    "y = df['Churn']\n",
    "\n",
    "# Define the feature variables (all columns except 'Churn')\n",
    "X = df.drop('Churn', axis=1)\n",
    "\n",
    "# Optional: Display the shapes of X and y to confirm\n",
    "print(\"Features shape:\", X.shape)\n",
    "print(\"Target shape:\", y.shape)"
   ]
  },
  {
   "cell_type": "markdown",
   "id": "bb936a01",
   "metadata": {
    "deletable": false,
    "editable": false,
    "nbgrader": {
     "cell_type": "markdown",
     "checksum": "bcf84f7263283338dd1dfbf584ad7320",
     "grade": false,
     "grade_id": "cell-aaee18a9bde6dd9e",
     "locked": true,
     "schema_version": 3,
     "solution": false,
     "task": false
    }
   },
   "source": [
    "### 2. Data Cleaning and Preprocessing (5 minutes)\n",
    "#### Step 2.1: Encode Categorical Features\n",
    "Encode the categorical features (e.g., `ContractRenewal`) using one-hot encoding."
   ]
  },
  {
   "cell_type": "code",
   "execution_count": 11,
   "id": "fd266adb",
   "metadata": {},
   "outputs": [
    {
     "name": "stdout",
     "output_type": "stream",
     "text": [
      "Categorical columns: Index(['ContractRenewal'], dtype='object')\n",
      "   Churn  AccountWeeks  DataPlan  DataUsage  CustServCalls  DayMins  DayCalls  \\\n",
      "0      0           128         1        2.7              1    265.1       110   \n",
      "1      0           107         1        3.7              1    161.6       123   \n",
      "2      0           137         0        0.0              0    243.4       114   \n",
      "3      0            84         0        0.0              2    299.4        71   \n",
      "4      0            75         0        0.0              3    166.7       113   \n",
      "\n",
      "   MonthlyCharge  OverageFee  RoamMins  ContractRenewal_Yes  \n",
      "0           89.0        9.87      10.0                    1  \n",
      "1           82.0        9.78      13.7                    1  \n",
      "2           52.0        6.06      12.2                    1  \n",
      "3           57.0        3.10       6.6                    0  \n",
      "4           41.0        7.42      10.1                    0  \n"
     ]
    }
   ],
   "source": [
    "# One-hot encoding for 'ContractRenewal' feature\n",
    "### YOUR CODE HERE ###\n",
    "categorical_cols = df.select_dtypes(include=['object', 'bool']).columns\n",
    "print(\"Categorical columns:\", categorical_cols)\n",
    "\n",
    "# Perform one-hot encoding on the categorical columns\n",
    "df_encoded = pd.get_dummies(df, columns=categorical_cols, drop_first=True)\n",
    "\n",
    "# Display the first few rows of the encoded dataframe\n",
    "print(df_encoded.head())"
   ]
  },
  {
   "cell_type": "markdown",
   "id": "53901621",
   "metadata": {
    "deletable": false,
    "editable": false,
    "nbgrader": {
     "cell_type": "markdown",
     "checksum": "705322420996a984ed72ce9b13533d66",
     "grade": false,
     "grade_id": "cell-0652369f8cb006d8",
     "locked": true,
     "schema_version": 3,
     "solution": false,
     "task": false
    }
   },
   "source": [
    "## Step 2.2: Split the Data\n",
    "Split the data into training and testing sets (70% train, 30% test) using `train_test_split` from Scikit-Learn. \n",
    "\n",
    "Make sure to set the `random_state` parameter to 42 to ensure reproducibility and obtain the same results as the expected solution."
   ]
  },
  {
   "cell_type": "code",
   "execution_count": 12,
   "id": "67161875",
   "metadata": {},
   "outputs": [
    {
     "name": "stdout",
     "output_type": "stream",
     "text": [
      "Training features shape: (2333, 10)\n",
      "Testing features shape: (1000, 10)\n",
      "Training target shape: (2333,)\n",
      "Testing target shape: (1000,)\n"
     ]
    }
   ],
   "source": [
    "from sklearn.model_selection import train_test_split\n",
    "\n",
    "# Split the data\n",
    "### YOUR CODE HERE ###\n",
    "# Separate features and target again if needed\n",
    "X = df_encoded.drop('Churn', axis=1)\n",
    "y = df_encoded['Churn']\n",
    "\n",
    "# Split into training and testing sets (70% train, 30% test)\n",
    "X_train, X_test, y_train, y_test = train_test_split(\n",
    "    X, y, test_size=0.3, random_state=42\n",
    ")\n",
    "\n",
    "# Optional: Check the shape of the splits\n",
    "print(\"Training features shape:\", X_train.shape)\n",
    "print(\"Testing features shape:\", X_test.shape)\n",
    "print(\"Training target shape:\", y_train.shape)\n",
    "print(\"Testing target shape:\", y_test.shape)"
   ]
  },
  {
   "cell_type": "markdown",
   "id": "48738ee8",
   "metadata": {
    "deletable": false,
    "editable": false,
    "nbgrader": {
     "cell_type": "markdown",
     "checksum": "f8b84feecf8426fe6cc1d564b75186df",
     "grade": false,
     "grade_id": "cell-5c974cd8d0e4e10c",
     "locked": true,
     "schema_version": 3,
     "solution": false,
     "task": false
    }
   },
   "source": [
    "### 3. Exploratory Data Analysis (EDA) and Visualization (20 minutes)\n",
    "#### Step 3.1: Summary Statistics for Relevant Features\n",
    "Calculate and print summary statistics for relevant features (e.g., average tenure for churned vs. non-churned customers)."
   ]
  },
  {
   "cell_type": "code",
   "execution_count": 14,
   "id": "eb0826db",
   "metadata": {},
   "outputs": [
    {
     "name": "stdout",
     "output_type": "stream",
     "text": [
      "Mean values of relevant features by Churn status:\n",
      "\n",
      "       AccountWeeks  DataPlan  DataUsage  CustServCalls     DayMins  \\\n",
      "Churn                                                                 \n",
      "0        100.793684  0.295439   0.862151       1.449825  175.175754   \n",
      "1        102.664596  0.165631   0.546957       2.229814  206.914079   \n",
      "\n",
      "         DayCalls  MonthlyCharge  OverageFee   RoamMins  \n",
      "Churn                                                    \n",
      "0      100.283158      55.816246    9.954618  10.158877  \n",
      "1      101.335404      59.190062   10.623085  10.700000  \n"
     ]
    }
   ],
   "source": [
    "# Summary statistics for churned vs. non-churned customers\n",
    "### YOUR CODE HERE ###\n",
    "\n",
    "# Print average tenure\n",
    "### YOUR CODE HERE ###\n",
    "relevant_features = [\n",
    "    'AccountWeeks', 'DataPlan', 'DataUsage', 'CustServCalls',\n",
    "    'DayMins', 'DayCalls', 'MonthlyCharge', 'OverageFee', 'RoamMins'\n",
    "]\n",
    "\n",
    "# Group by Churn and calculate mean\n",
    "summary_stats = df.groupby('Churn')[relevant_features].mean()\n",
    "\n",
    "# Display the summary statistics\n",
    "print(\"Mean values of relevant features by Churn status:\\n\")\n",
    "print(summary_stats)"
   ]
  },
  {
   "cell_type": "markdown",
   "id": "764f9efc",
   "metadata": {
    "deletable": false,
    "editable": false,
    "nbgrader": {
     "cell_type": "markdown",
     "checksum": "7349fed91f900896119c3721c97c14fd",
     "grade": false,
     "grade_id": "cell-f4a7303017a09697",
     "locked": true,
     "schema_version": 3,
     "solution": false,
     "task": false
    }
   },
   "source": [
    "#### Step 3.2: Create Visualizations\n",
    "Create visualizations (e.g., bar charts, histograms, box plots) to explore the relationships between features and the target variable (`'Churn'`)."
   ]
  },
  {
   "cell_type": "code",
   "execution_count": 16,
   "id": "ac3a1198",
   "metadata": {},
   "outputs": [
    {
     "data": {
      "image/png": "[encoded data removed]",
      "text/plain": [
       "<Figure size 600x400 with 1 Axes>"
      ]
     },
     "metadata": {},
     "output_type": "display_data"
    },
    {
     "data": {
      "image/png": "[encoded data removed]",
      "text/plain": [
       "<Figure size 800x400 with 1 Axes>"
      ]
     },
     "metadata": {},
     "output_type": "display_data"
    },
    {
     "data": {
      "image/png": "[encoded data removed]",
      "text/plain": [
       "<Figure size 600x400 with 1 Axes>"
      ]
     },
     "metadata": {},
     "output_type": "display_data"
    }
   ],
   "source": [
    "import matplotlib.pyplot as plt\n",
    "import seaborn as sns\n",
    "\n",
    "# Bar chart: ContractRenewal vs Churn\n",
    "plt.figure(figsize=(6, 4))\n",
    "sns.barplot(x='ContractRenewal', y='Churn', data=df)\n",
    "plt.title('Churn Rate by Contract Renewal')\n",
    "plt.xlabel('Contract Renewed')\n",
    "plt.ylabel('Average Churn Rate')\n",
    "plt.show()\n",
    "\n",
    "# Histogram for tenure distribution\n",
    "### YOUR CODE HERE ###\n",
    "plt.figure(figsize=(8, 4))\n",
    "sns.histplot(df['AccountWeeks'], bins=30, kde=True)\n",
    "plt.title('Distribution of Account Weeks (Tenure)')\n",
    "plt.xlabel('Account Weeks')\n",
    "plt.ylabel('Number of Customers')\n",
    "plt.show()\n",
    "# Box plot for monthly charges\n",
    "### YOUR CODE HERE ###\n",
    "plt.figure(figsize=(6, 4))\n",
    "sns.boxplot(x='Churn', y='MonthlyCharge', data=df)\n",
    "plt.title('Monthly Charges by Churn Status')\n",
    "plt.xlabel('Churn')\n",
    "plt.ylabel('Monthly Charge')\n",
    "plt.show()"
   ]
  },
  {
   "cell_type": "markdown",
   "id": "031461ca",
   "metadata": {
    "deletable": false,
    "editable": false,
    "nbgrader": {
     "cell_type": "markdown",
     "checksum": "e428b31ac3b1fe28fc5d56af884268d8",
     "grade": false,
     "grade_id": "cell-90d557213d510545",
     "locked": true,
     "schema_version": 3,
     "solution": false,
     "task": false
    }
   },
   "source": [
    "#### Step 3.3: Interpret Visualizations\n",
    "Interpret the visualizations and identify key insights about factors influencing churn.  Enter your observations in the cell below:"
   ]
  },
  {
   "cell_type": "markdown",
   "id": "632d93af",
   "metadata": {},
   "source": [
    "Enter your observations about the visualizations here:\n",
    "\n",
    "- Observation 1: \n",
    "- Observation 2: \n",
    "- Observation 3: "
   ]
  },
  {
   "cell_type": "markdown",
   "id": "c6ea6488",
   "metadata": {
    "deletable": false,
    "editable": false,
    "nbgrader": {
     "cell_type": "markdown",
     "checksum": "7b0e8ea63510da5bd91bdf4fa7b09442",
     "grade": false,
     "grade_id": "cell-b442585d321b14f2",
     "locked": true,
     "schema_version": 3,
     "solution": false,
     "task": false
    }
   },
   "source": [
    "### 4. Machine Learning Model Building and Evaluation (20 minutes)\n",
    "#### Step 4.1: Choose a Classification Algorithm\n",
    "Choose a suitable classification algorithm (e.g., `LogisticRegression`) and import it."
   ]
  },
  {
   "cell_type": "code",
   "execution_count": 17,
   "id": "284bf201",
   "metadata": {},
   "outputs": [],
   "source": [
    "from sklearn.linear_model import LogisticRegression\n",
    "\n",
    "# Create an instance of the Logistic Regression model\n",
    "### YOUR CODE HERE ###\n",
    "model = LogisticRegression(random_state=42, max_iter=1000)"
   ]
  },
  {
   "cell_type": "markdown",
   "id": "78cb761d",
   "metadata": {
    "deletable": false,
    "editable": false,
    "nbgrader": {
     "cell_type": "markdown",
     "checksum": "e7a6081c289ea21fd3530e0d4b1bd34a",
     "grade": false,
     "grade_id": "cell-c6224c2dfa368e63",
     "locked": true,
     "schema_version": 3,
     "solution": false,
     "task": false
    }
   },
   "source": [
    "#### Step 4.2: Train the Model\n",
    "Train the model on the training data."
   ]
  },
  {
   "cell_type": "code",
   "execution_count": 18,
   "id": "c68eac1a",
   "metadata": {},
   "outputs": [
    {
     "data": {
      "text/html": [
       "<style>#sk-container-id-1 {color: black;background-color: white;}#sk-container-id-1 pre{padding: 0;}#sk-container-id-1 div.sk-toggleable {background-color: white;}#sk-container-id-1 label.sk-toggleable__label {cursor: pointer;display: block;width: 100%;margin-bottom: 0;padding: 0.3em;box-sizing: border-box;text-align: center;}#sk-container-id-1 label.sk-toggleable__label-arrow:before {content: \"▸\";float: left;margin-right: 0.25em;color: #696969;}#sk-container-id-1 label.sk-toggleable__label-arrow:hover:before {color: black;}#sk-container-id-1 div.sk-estimator:hover label.sk-toggleable__label-arrow:before {color: black;}#sk-container-id-1 div.sk-toggleable__content {max-height: 0;max-width: 0;overflow: hidden;text-align: left;background-color: #f0f8ff;}#sk-container-id-1 div.sk-toggleable__content pre {margin: 0.2em;color: black;border-radius: 0.25em;background-color: #f0f8ff;}#sk-container-id-1 input.sk-toggleable__control:checked~div.sk-toggleable__content {max-height: 200px;max-width: 100%;overflow: auto;}#sk-container-id-1 input.sk-toggleable__control:checked~label.sk-toggleable__label-arrow:before {content: \"▾\";}#sk-container-id-1 div.sk-estimator input.sk-toggleable__control:checked~label.sk-toggleable__label {background-color: #d4ebff;}#sk-container-id-1 div.sk-label input.sk-toggleable__control:checked~label.sk-toggleable__label {background-color: #d4ebff;}#sk-container-id-1 input.sk-hidden--visually {border: 0;clip: rect(1px 1px 1px 1px);clip: rect(1px, 1px, 1px, 1px);height: 1px;margin: -1px;overflow: hidden;padding: 0;position: absolute;width: 1px;}#sk-container-id-1 div.sk-estimator {font-family: monospace;background-color: #f0f8ff;border: 1px dotted black;border-radius: 0.25em;box-sizing: border-box;margin-bottom: 0.5em;}#sk-container-id-1 div.sk-estimator:hover {background-color: #d4ebff;}#sk-container-id-1 div.sk-parallel-item::after {content: \"\";width: 100%;border-bottom: 1px solid gray;flex-grow: 1;}#sk-container-id-1 div.sk-label:hover label.sk-toggleable__label {background-color: #d4ebff;}#sk-container-id-1 div.sk-serial::before {content: \"\";position: absolute;border-left: 1px solid gray;box-sizing: border-box;top: 0;bottom: 0;left: 50%;z-index: 0;}#sk-container-id-1 div.sk-serial {display: flex;flex-direction: column;align-items: center;background-color: white;padding-right: 0.2em;padding-left: 0.2em;position: relative;}#sk-container-id-1 div.sk-item {position: relative;z-index: 1;}#sk-container-id-1 div.sk-parallel {display: flex;align-items: stretch;justify-content: center;background-color: white;position: relative;}#sk-container-id-1 div.sk-item::before, #sk-container-id-1 div.sk-parallel-item::before {content: \"\";position: absolute;border-left: 1px solid gray;box-sizing: border-box;top: 0;bottom: 0;left: 50%;z-index: -1;}#sk-container-id-1 div.sk-parallel-item {display: flex;flex-direction: column;z-index: 1;position: relative;background-color: white;}#sk-container-id-1 div.sk-parallel-item:first-child::after {align-self: flex-end;width: 50%;}#sk-container-id-1 div.sk-parallel-item:last-child::after {align-self: flex-start;width: 50%;}#sk-container-id-1 div.sk-parallel-item:only-child::after {width: 0;}#sk-container-id-1 div.sk-dashed-wrapped {border: 1px dashed gray;margin: 0 0.4em 0.5em 0.4em;box-sizing: border-box;padding-bottom: 0.4em;background-color: white;}#sk-container-id-1 div.sk-label label {font-family: monospace;font-weight: bold;display: inline-block;line-height: 1.2em;}#sk-container-id-1 div.sk-label-container {text-align: center;}#sk-container-id-1 div.sk-container {/* jupyter's `normalize.less` sets `[hidden] { display: none; }` but bootstrap.min.css set `[hidden] { display: none !important; }` so we also need the `!important` here to be able to override the default hidden behavior on the sphinx rendered scikit-learn.org. See: https://github.com/scikit-learn/scikit-learn/issues/21755 */display: inline-block !important;position: relative;}#sk-container-id-1 div.sk-text-repr-fallback {display: none;}</style><div id=\"sk-container-id-1\" class=\"sk-top-container\"><div class=\"sk-text-repr-fallback\"><pre>LogisticRegression(max_iter=1000, random_state=42)</pre><b>In a Jupyter environment, please rerun this cell to show the HTML representation or trust the notebook. <br />On GitHub, the HTML representation is unable to render, please try loading this page with nbviewer.org.</b></div><div class=\"sk-container\" hidden><div class=\"sk-item\"><div class=\"sk-estimator sk-toggleable\"><input class=\"sk-toggleable__control sk-hidden--visually\" id=\"sk-estimator-id-1\" type=\"checkbox\" checked><label for=\"sk-estimator-id-1\" class=\"sk-toggleable__label sk-toggleable__label-arrow\">LogisticRegression</label><div class=\"sk-toggleable__content\"><pre>LogisticRegression(max_iter=1000, random_state=42)</pre></div></div></div></div></div>"
      ],
      "text/plain": [
       "LogisticRegression(max_iter=1000, random_state=42)"
      ]
     },
     "execution_count": 18,
     "metadata": {},
     "output_type": "execute_result"
    }
   ],
   "source": [
    "# Train the model\n",
    "### YOUR CODE HERE ###\n",
    "model.fit(X_train, y_train)"
   ]
  },
  {
   "cell_type": "markdown",
   "id": "6c5b7169",
   "metadata": {
    "deletable": false,
    "editable": false,
    "nbgrader": {
     "cell_type": "markdown",
     "checksum": "357350b61e37d15aa44c697e30fb4cc3",
     "grade": false,
     "grade_id": "cell-b25606449086003d",
     "locked": true,
     "schema_version": 3,
     "solution": false,
     "task": false
    }
   },
   "source": [
    "#### Step 4.3: Make Predictions\n",
    "Use the trained model to make predictions on the testing data."
   ]
  },
  {
   "cell_type": "code",
   "execution_count": 19,
   "id": "64bb9242",
   "metadata": {},
   "outputs": [],
   "source": [
    "# Make predictions on the test set\n",
    "### YOUR CODE HERE ###\n",
    "y_pred = model.predict(X_test)"
   ]
  },
  {
   "cell_type": "markdown",
   "id": "2217073c",
   "metadata": {
    "deletable": false,
    "editable": false,
    "nbgrader": {
     "cell_type": "markdown",
     "checksum": "44b7e2a961aaf03250a6388ddfc78491",
     "grade": false,
     "grade_id": "cell-ba2b48b41ac6eb45",
     "locked": true,
     "schema_version": 3,
     "solution": false,
     "task": false
    }
   },
   "source": [
    "#### Step 4.4: Evaluate the Model\n",
    "Evaluate the model's performance using appropriate metrics (`accuracy_score`, `precision_score`, `recall_score`, `f1_score`).\n",
    "\n",
    "**Note:** For grading purposes, calculate and store each of these metrics in the following variables:\n",
    "- `accuracy`\n",
    "- `precision`\n",
    "- `recall`\n",
    "- `f1`"
   ]
  },
  {
   "cell_type": "code",
   "execution_count": 20,
   "id": "03bfedb7",
   "metadata": {},
   "outputs": [
    {
     "name": "stdout",
     "output_type": "stream",
     "text": [
      "Accuracy: 0.866\n",
      "Precision: 0.596\n",
      "Recall: 0.196\n",
      "F1 Score: 0.295\n"
     ]
    }
   ],
   "source": [
    "from sklearn.metrics import accuracy_score, precision_score, recall_score, f1_score\n",
    "\n",
    "# Evaluate the model\n",
    "# Round all values to 3 decimal places\n",
    "### YOUR CODE HERE ###\n",
    "# Evaluate the model predictions\n",
    "accuracy = round(accuracy_score(y_test, y_pred), 3)\n",
    "precision = round(precision_score(y_test, y_pred), 3)\n",
    "recall = round(recall_score(y_test, y_pred), 3)\n",
    "f1 = round(f1_score(y_test, y_pred), 3)\n",
    "\n",
    "# Print the metrics\n",
    "print(f\"Accuracy: {accuracy}\")\n",
    "print(f\"Precision: {precision}\")\n",
    "print(f\"Recall: {recall}\")\n",
    "print(f\"F1 Score: {f1}\")\n"
   ]
  },
  {
   "cell_type": "markdown",
   "id": "24b86667",
   "metadata": {
    "deletable": false,
    "editable": false,
    "nbgrader": {
     "cell_type": "markdown",
     "checksum": "df74daba87228f9953ec6fcabcdc20c7",
     "grade": false,
     "grade_id": "cell-67f9286f02e450fc",
     "locked": true,
     "schema_version": 3,
     "solution": false,
     "task": false
    }
   },
   "source": [
    "#### Check Your Results:"
   ]
  },
  {
   "cell_type": "code",
   "execution_count": 21,
   "id": "2500301c",
   "metadata": {
    "deletable": false,
    "editable": false,
    "nbgrader": {
     "cell_type": "code",
     "checksum": "2f89766b122f38e043c4d3034e00c45e",
     "grade": true,
     "grade_id": "cell-c06f9db7c1c75e78",
     "locked": true,
     "points": 10,
     "schema_version": 3,
     "solution": false,
     "task": false
    }
   },
   "outputs": [
    {
     "name": "stdout",
     "output_type": "stream",
     "text": [
      "Accuracy: 0.866\n",
      "Precision: 0.596\n",
      "Recall: 0.196\n",
      "F1 Score: 0.295\n"
     ]
    }
   ],
   "source": [
    "# Print to check results\n",
    "print(f\"Accuracy: {accuracy}\")\n",
    "print(f\"Precision: {precision}\")\n",
    "print(f\"Recall: {recall}\")\n",
    "print(f\"F1 Score: {f1}\")"
   ]
  },
  {
   "cell_type": "markdown",
   "id": "a959e74e",
   "metadata": {
    "deletable": false,
    "editable": false,
    "nbgrader": {
     "cell_type": "markdown",
     "checksum": "f04afd92fc0c765712add691a7ca1fcd",
     "grade": false,
     "grade_id": "cell-e0c629442b08f506",
     "locked": true,
     "schema_version": 3,
     "solution": false,
     "task": false
    }
   },
   "source": [
    "### 5. Presenting Findings in a Comprehensive Report\n",
    "#### Step 5.1: Compile the Results\n",
    "Compile your analysis, visualizations, and model evaluation results into a comprehensive report. Fill them in as directed below.\n",
    "- `Introduction:` Write a sentence or two describing the purpose of this analysis.\n",
    "- `Data Exploration:` Write a sentence or two highlighting the key factors in customer churn.\n",
    "- `Model Building and Evaluation:` Write a sentence or two describing how your model was trained, and the accuracy, precision, and recall rates.\n",
    "- `Key Insights:` Add two or three bullet points summarizing your findings.\n",
    "- `Recommendations:` Add two or three bullet points with the recommendations you would make based on this analysis."
   ]
  },
  {
   "cell_type": "markdown",
   "id": "95e50bd2",
   "metadata": {},
   "source": [
    "# Customer Churn Analysis Report\n",
    "\n",
    "## Introduction\n",
    "- \n",
    "\n",
    "\n",
    "## Data Exploration\n",
    "- \n",
    "\n",
    "\n",
    "## Model Building and Evaluation\n",
    "- \n",
    "\n",
    "\n",
    "## Key Insights\n",
    "- \n",
    "- \n",
    "- \n",
    "\n",
    "\n",
    "## Recommendations\n",
    "- \n",
    "- "
   ]
  },
  {
   "cell_type": "markdown",
   "id": "c2c96cd9",
   "metadata": {
    "deletable": false,
    "editable": false,
    "nbgrader": {
     "cell_type": "markdown",
     "checksum": "6720661957963afea793b0737065edee",
     "grade": false,
     "grade_id": "cell-4566ff80b0214cda",
     "locked": true,
     "schema_version": 3,
     "solution": false,
     "task": false
    }
   },
   "source": [
    "## Hints & Tips\n",
    "- Use the \"Pandas Cheat Sheet\" for quick syntax reference on DataFrame operations.\n",
    "- Check the \"Scikit-Learn Documentation\" for examples and explanations of classification models.\n",
    "- Use Matplotlib for creating informative visualizations. Reference various materials in Course 2.\n",
    "\n",
    "Good luck with your customer churn analysis!"
   ]
  }
 ],
 "metadata": {
  "kernelspec": {
   "display_name": "Python 3 (ipykernel)",
   "language": "python",
   "name": "python3"
  },
  "language_info": {
   "codemirror_mode": {
    "name": "ipython",
    "version": 3
   },
   "file_extension": ".py",
   "mimetype": "text/x-python",
   "name": "python",
   "nbconvert_exporter": "python",
   "pygments_lexer": "ipython3",
   "version": "3.10.6"
  }
 },
 "nbformat": 4,
 "nbformat_minor": 5
}
